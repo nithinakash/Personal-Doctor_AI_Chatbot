{
 "cells": [
  {
   "cell_type": "markdown",
   "id": "8380e85f",
   "metadata": {},
   "source": [
    "### Packages Required"
   ]
  },
  {
   "cell_type": "code",
   "execution_count": 1,
   "id": "029fca52",
   "metadata": {},
   "outputs": [],
   "source": [
    "import pandas as pd\n",
    "import numpy as np\n",
    "import matplotlib.pyplot as plt\n",
    "from pathlib import Path\n",
    "import string\n",
    "import re\n",
    "import joblib\n",
    "import json\n",
    "from collections import Counter\n",
    "import nltk\n",
    "from nltk.corpus import stopwords\n",
    "from nltk.stem import WordNetLemmatizer\n",
    "\n",
    "from tensorflow.keras.preprocessing.text import Tokenizer\n",
    "from tensorflow.keras.preprocessing.sequence import pad_sequences\n",
    "from tensorflow.keras.utils import plot_model\n",
    "from tensorflow.keras.models import Sequential\n",
    "from tensorflow.keras.layers import Embedding,Dense,Flatten\n",
    "from tensorflow.keras.layers import Conv1D\n",
    "from tensorflow.keras.layers import MaxPooling1D\n",
    "from tensorflow.keras.callbacks import ModelCheckpoint, EarlyStopping,ReduceLROnPlateau"
   ]
  },
  {
   "cell_type": "markdown",
   "id": "26e351c4",
   "metadata": {},
   "source": [
    "### Datasets"
   ]
  },
  {
   "cell_type": "code",
   "execution_count": 2,
   "id": "be6582e8",
   "metadata": {},
   "outputs": [],
   "source": [
    "path = 'C:/Users/Nithin/Downloads/Chatbot Creation/'\n",
    "file = open(path + 'Datasets/Question & Answer.json')\n",
    "data = json.load(file)"
   ]
  },
  {
   "cell_type": "code",
   "execution_count": 7,
   "id": "2f9e3b51",
   "metadata": {},
   "outputs": [
    {
     "data": {
      "text/plain": [
       "'young doc says closure by \"second intention \" yet my site is clean/intact! i want him to evacuate postop scrotal hematoma end w/sutures. am i wrong?'"
      ]
     },
     "execution_count": 7,
     "metadata": {},
     "output_type": "execute_result"
    }
   ],
   "source": [
    "data[18]['question']"
   ]
  },
  {
   "cell_type": "code",
   "execution_count": 8,
   "id": "3d1b66ee",
   "metadata": {},
   "outputs": [],
   "source": [
    "question = []\n",
    "tags = []\n",
    "for i in range(0,25000):\n",
    "    to_app = data[i]['question']\n",
    "    question.append(to_app)\n",
    "    to_ap = data[i]['tags'][0]\n",
    "    tags.append(to_ap)"
   ]
  },
  {
   "cell_type": "code",
   "execution_count": 10,
   "id": "53d38bad",
   "metadata": {},
   "outputs": [],
   "source": [
    "question_ser = pd.Series(question)\n",
    "tags_ser = pd.Series(tags)"
   ]
  },
  {
   "cell_type": "code",
   "execution_count": 11,
   "id": "855b67be",
   "metadata": {},
   "outputs": [],
   "source": [
    "df_quest = pd.concat([question_ser,tags_ser],axis=1)"
   ]
  },
  {
   "cell_type": "code",
   "execution_count": 12,
   "id": "e3f71b80",
   "metadata": {},
   "outputs": [],
   "source": [
    "df_quest = df_quest.rename(columns={0:'question',1:'tags'})"
   ]
  },
  {
   "cell_type": "code",
   "execution_count": 14,
   "id": "3b70388b",
   "metadata": {},
   "outputs": [],
   "source": [
    "answer = []\n",
    "tags = []\n",
    "for i in range(0,25000):\n",
    "    to_app = data[i]['answer']\n",
    "    answer.append(to_app)\n",
    "    to_ap = data[i]['tags'][0]\n",
    "    tags.append(to_ap)"
   ]
  },
  {
   "cell_type": "code",
   "execution_count": 15,
   "id": "91477170",
   "metadata": {},
   "outputs": [],
   "source": [
    "answer_ser = pd.Series(answer)\n",
    "tags_ser = pd.Series(tags)"
   ]
  },
  {
   "cell_type": "code",
   "execution_count": 16,
   "id": "6d74f970",
   "metadata": {},
   "outputs": [],
   "source": [
    "df_ans = pd.concat([answer_ser,tags_ser],axis=1)"
   ]
  },
  {
   "cell_type": "code",
   "execution_count": 17,
   "id": "29d075a4",
   "metadata": {},
   "outputs": [],
   "source": [
    "df_ans = df_ans.rename(columns={0:'answer',1:'tags'})"
   ]
  },
  {
   "cell_type": "code",
   "execution_count": 22,
   "id": "6f04a16e",
   "metadata": {},
   "outputs": [],
   "source": [
    "lemmatizer=WordNetLemmatizer()\n",
    "vocab=Counter()\n",
    "labels=[]\n",
    "def tokenizer(entry):\n",
    "    tokens=entry.split()\n",
    "    re_punc=re.compile('[%s]'% re.escape(string.punctuation))\n",
    "    tokens=[re_punc.sub('',w) for w in tokens]\n",
    "    tokens=[word for word in tokens if word.isalpha()]\n",
    "    tokens=[lemmatizer.lemmatize(w.lower()) for w in tokens]\n",
    "    tokens=[word.lower() for word in tokens if len(word)>1]\n",
    "    return tokens"
   ]
  },
  {
   "cell_type": "code",
   "execution_count": 23,
   "id": "44b29aae",
   "metadata": {},
   "outputs": [],
   "source": [
    "def remove_stop_words(tokenizer,df,feature):\n",
    "    doc_without_stopwords=[]\n",
    "    for entry in df[feature]:\n",
    "        tokens=tokenizer(entry)\n",
    "        joblib.dump(tokens,'tokens.pkl')\n",
    "        doc_without_stopwords.append(' '.join(tokens))\n",
    "    df[feature]=doc_without_stopwords\n",
    "    return"
   ]
  },
  {
   "cell_type": "code",
   "execution_count": 24,
   "id": "539484b4",
   "metadata": {},
   "outputs": [],
   "source": [
    "def create_vocab(tokenizer,df,feature):\n",
    "    for entry in df[feature]:\n",
    "        tokens=tokenizer(entry)\n",
    "        vocab.update(tokens)\n",
    "    joblib.dump(vocab,'vocab.pkl')\n",
    "    return"
   ]
  },
  {
   "cell_type": "code",
   "execution_count": 25,
   "id": "e87cd6f6",
   "metadata": {},
   "outputs": [],
   "source": [
    "create_vocab(tokenizer,df_quest,'question')"
   ]
  },
  {
   "cell_type": "code",
   "execution_count": 26,
   "id": "d8667e6c",
   "metadata": {},
   "outputs": [],
   "source": [
    "remove_stop_words(tokenizer,df_quest,'question')"
   ]
  },
  {
   "cell_type": "code",
   "execution_count": 27,
   "id": "1d308634",
   "metadata": {},
   "outputs": [
    {
     "name": "stdout",
     "output_type": "stream",
     "text": [
      "[('to', 12864), ('is', 12459), ('and', 11013), ('the', 9286), ('my', 8777), ('it', 8262), ('what', 8010), ('have', 6804), ('of', 5804), ('for', 5663), ('weight', 5598), ('in', 4895), ('on', 4314), ('do', 3943), ('can', 3817), ('with', 3018), ('if', 2897), ('am', 2713), ('im', 2668), ('or', 2606)]\n"
     ]
    }
   ],
   "source": [
    "print(vocab.most_common(20))"
   ]
  },
  {
   "cell_type": "code",
   "execution_count": 28,
   "id": "d289782a",
   "metadata": {},
   "outputs": [
    {
     "data": {
      "text/plain": [
       "11153"
      ]
     },
     "execution_count": 28,
     "metadata": {},
     "output_type": "execute_result"
    }
   ],
   "source": [
    "vocab_size=len(vocab)\n",
    "vocab_size"
   ]
  },
  {
   "cell_type": "code",
   "execution_count": 29,
   "id": "68a0039f",
   "metadata": {},
   "outputs": [
    {
     "data": {
      "text/plain": [
       "['zoloft sertraline side effect doe it make you gain or lose weight',\n",
       " 'zoloft sertaline cause heart racing cant sit still is this normal',\n",
       " 'zyprexa seroquel risperdal abilify all can have porential risk of raising blood sugar doe latuda lurasidone carry this risk also not to familiar with it',\n",
       " 'zyprexa olanzapine is causing me metabolic syndrome need zyprexa olanzapine but not the syndrome what should do',\n",
       " 'zoloft sertraline is th only antidepressant so far that have been able to tolerate but can it make me increase weight',\n",
       " 'zyban bupropion question ha anyone prescribed zyban bupropion to quit smoking',\n",
       " 'zinc deficiency mg for adult male and diarrheal disease zinc tablet daily help two cause constipation is there anything else to consider',\n",
       " 'zoloft sertraline taken overdose double dose what symptom to look for',\n",
       " 'zirconium dental implant how common is it used now is there any advantage or benefit over titanium implant con pro please thanks',\n",
       " 'zit ha honey coloured crust and it sometimes water how can cure it',\n",
       " 'yellow skin around wound from cat bite why']"
      ]
     },
     "execution_count": 29,
     "metadata": {},
     "output_type": "execute_result"
    }
   ],
   "source": [
    "test_list=list(df_quest.groupby(by='tags',as_index=False).first()['question'])\n",
    "test_list"
   ]
  },
  {
   "cell_type": "code",
   "execution_count": 35,
   "id": "7f5e7eca",
   "metadata": {},
   "outputs": [
    {
     "data": {
      "text/plain": [
       "[7, 6, 23, 26, 27, 31, 67, 68, 0, 73, 8]"
      ]
     },
     "execution_count": 35,
     "metadata": {},
     "output_type": "execute_result"
    }
   ],
   "source": [
    "test_index=[]\n",
    "for i,_ in enumerate(test_list):\n",
    "    idx=df_quest[df_quest.question==test_list[i]].index[0]\n",
    "    test_index.append(idx)\n",
    "test_index"
   ]
  },
  {
   "cell_type": "code",
   "execution_count": 36,
   "id": "99215d7e",
   "metadata": {},
   "outputs": [],
   "source": [
    "train_index=[i for i in df_quest.index if i not in test_index]"
   ]
  },
  {
   "cell_type": "code",
   "execution_count": 37,
   "id": "08de4df4",
   "metadata": {},
   "outputs": [
    {
     "data": {
      "text/plain": [
       "'zirconium dental implant how common is it used now there any advantage or benefit over titanium con pro please thanks zoloft sertaline cause heart racing cant sit still this normal sertraline side effect doe make you gain lose weight yellow skin around wound from cat bite why yeast infection and open sore major swelling very impossible to pee pain taken one time pill doc no luck help yesterday got cut on rusty barbed wire fence my last tetanus shot wa year ago do need booster could the germ live out in sun fell face went first into ground have scab all what fastest way get rid of scratched lower back thigh resulted deep dark bruise leg ache hurt should checked ive bitten by mosquito upper eye lid when wake up today found red tender think cellulitis whats most suitable ab young say closure second intention yet site cleanintact want him evacuate postop scrotal hematoma end wsutures am wrong day magnesium garlic horsradishc complex fish oil ok zinc interfere with coumadin warfarin zantac ranitidine caused me shortness breath after few will omeprazole same zyprexa seroquel risperdal abilify can porential risk raising blood sugar latuda lurasidone carry also not familiar olanzapine causing metabolic syndrome but th only antidepressant so far that been able tolerate increase ativan lipitor atorvastatin for little grapefruit ocasionally if zyban bupropion question ha anyone prescribed quit smoking zolpidem said be rape drug true work man zolpiden an erection while asleep helped anxiety feel between emotion dont overly excited like use down much three month stabilized high joy before im scared function without ocd intrusive unwanted thought best antipsyssri combo wt agitation go away zanaflex tizanidine muscle tone relaxation clonazepam off benzos tried many pt prozac ocdwhich seems yield response patient diabetic dose takin klonopin twice balance focused depression being switched buspar buspirone thing tensed poor sleep find another ssri eventually taking trazadon add aripiprazole becaus lot gave energy boost libido mood week worsening constant suicide daily self harm more frequent severe psychiatrist at tapered stopped felt deeprssd strong start again zispin lexapro escitalopram which mg wellbutrin xl anxious letel depressed ask agmunt lamictal gone using restroom bowel diarrhea lately sexual dysfunction good luvox better worked because great together both continue them effexor venlafaxine medication past some sometimes giving norm intro med problem change due having doing jitterywired feelingno caffeine these dizziness working hour xanax alprazolam panic attack vacation wait relief hope zapping shocking sensation head stop worsens advance zofran ondansetron hasnt ginger capsule nausea recently possibly psychological physical deficiency adult male diarrheal disease tablet two constipation anything else consider overdose double symptom look fastslow rate never mean youll likely zirconia pfm fixed unit bridge broke several based material zpak nerve pvc twitch take antibiotic given clindamycin possible tooth safe zit honey coloured crust water cure zyrtec allegra fexofenadine hive antihistamine nose pop zn hemoroid cream acne zetaclear nail fungus reliefis effective ingrown hair blister type vagina vitamin stuff lead pressure armpit particular pimple wont corner mouth pretty bad just bumpy zrytec chronic zest blue soap allergic reaction bump wart oxide zvan herpes form tanning bed lip sex cetirizine drowsy are nondrowsy provide allergy ziana tretinoin ance scar zoster relapse catch cold example new zyrteczantac had yr allergist nothing keep saying itll gp presc zz antacid chin near swollen fat once painful movementtouch suggestion zpack pneumonia who cronic motrin took made worse swelled toit shoulder usually peeled they leave black mark summer histamine ingredient noticed inverse popping too right igg level shingle outbreak confirm testssign heal plantar corn cushion reopens welt badly bug welted diameter large dr unlikely such unknown small degree burn boiling redness size dime subside hot tub throat awayzpack did mo saw outside ear he maybe inflamed steroid see specialist foot laceration regular doctor care puncture orbital femoral lymph node inguinal groin happen mother elephantiasis larva her extracted transparent liquid dripping well friend son she stage cancer radiation treatment visit silicone gel patch since tremendously sure stood treatmenr trimming phoenix palm stuck nasty thorn wrist finger opposite hand artritic bitepuncture reduce dog car accident gash forehead ct scan were via er then experience lay sudden concerned tissue separated body abrasion chest would their own husband venous ulcer his option daughter acquired periorbital cellulutus daycare setting detrrmine specific hit about soft touch spotsore next other seen sister scalp shower clean dos toxoid during pregnancy home remedy venus than compression curing tell kind dressing done exploded baby infected insect wash longer preseptal treated idea glass pathophysiology rabies treat snake bike shallow staple chair expect completely iron fade product bio cellulite broken differently treating pharmacist give dtp instead vaginal lingering difference splenic rupture pinching itching healing minor boil sewing needle decreasing test cervix previous childbirth animal arm factor necrotizing fascitis must complication occur arrow metal toilet cleaning brush our bathroom didnt bleed diagnosed left couple area turn purple process somebody knee recommend rattlesnake non venomous going toe bleeding kill itself mild reconstruction surgery top above severely even post azithromycin anti serum simultaneously dirty vaccine containing receive might getting diagnose come prevent necrotic your staph lesion slight fever advice suffering abscess moment put recieved holding friday know gluteal drained pu extent healed watering present fully discharge dry healthy long typically hole close pregnant injected rabbies bcoz pilnidol syst packing surgeon suggested flap midline procedure bucked horse huge scrape picked cellulitus ankle untreated big stitch may itch worry almost sliced piece burnt myself flat keloid mastoidectomy pilonidal cyst removed vac placed noise silent except periodically drainage sitting tubing properly jp drain bowl resection ugh producing pus tube bit vaccinated outer okay chipmunk feve oozing clear cannot move thumb antiseptic savlon speed recovery unvaccinated late woke cutscratch cheek wondering sunburn technically received instantly half numb poison wide old female dropped beam lumber quite heavy onthe bruised scrotum contagious discoloured dvt available discolouration silver suf assist scarring clitoris cdiff mrsa related evacuation surgical wrap spread those neosporin pet night started worried cellutitis strep connected terrible chill quickly spreading headache subsided walk cellulits eat chocolate rose bush apply desoximetasone toxic bloodstream recurrent bottom inside hiv contact tattoo place sterile exposed layer peel slough picc line soon motherinlaws buttock looked grew remove ciprofloxacin burned camping bin hospital trying spaz white leathery internal occurs heard kinda bend nostril peroxide doesnt iv streak methodone thanx cooking aloe vera scabbed fast turned gallbladder bandage check interaction under appeared shave eyebrow grow suture oct grandaugther died meningitis septcemia men vacine fix tendon ruptured lump behind infant hard painless discoloration love assisting people involved disaster counseling etc required woman try suck venom stepped margin melanoma disintegrating where kid against diabetes injection necessary every abs lanced thursday evening wick monday leaking extra retention following thyrogen therapy peeling along perirectal nearly relieve below damage wanted ever liver operation hysterectomy removal tounge color inner currently doxcyline bactrim disco fryer job underside advoid scaring anal boyfriend anus heel trenbolone bout neck continual coming remember cleaned notice pussing overthecounter eyelid developed cortisone medical management abrassion warrant swim carmel whether weigh lm stomach selfhealing elapid curable grocery store until knife vein clearly hear happened we child worrying health food knowledgeable owner suggests certain root herb safely cephalexinday shouldnt read online sinus tract leak mistake uterus leaked closed busted soup bandaged emt within weekend emergency room thank drink alcohol tack negativesmiley celulitus forever tuesday couldnt entire throbbing ring plug straightener punctured keeping partial curious rash slow fluidcs candida sick savvy cellulitas mine main nowadays nicked putting cover apple cider bottle aidshiv contracte sti oral human sew person cranial damaged frostbite surfing immune system amoxicillin someone normally abdomen aid debrided silversorb applied moist tues spot thats inch born later tiny urine leakage tip penis girlfriend facial oilfield always pick bled fear natural cellulitits different abx feeling betadine nonrusty bandaid chainsaw ed fine stitched sent watch hafe un micatin miconazole spray dangerous asia smaller leaving itchy sometime early infectio ceph normalk dying money swiss havent edge meet gap depth result prescribe something phone accidentaly kneed real method healdisenfect fracture deviated septum augmentin levitra vardenafil usu stuffy claw thru came towards cartilage feltheard special incision mastectomy necrosis happens forgot exact date tomorrow sharp safest diphtheria kick waiting tongue correlation painfull oozy smelly abit happening myoclonic seizure age icu concussion considered epile cefulitis bi burst mess everywhere domestic become fatal clavulanate tho stepping opening stay accidentally popped sufficient nighti overnight morning reopened ve seizing epileptic fit useful infrared sauna tetnus five medicine lotion eliminate staff penisilun tp enough culture shall proceed cared step technic medicare doxycycline jaw tight spasm bleddo sign wk bacteria shown wks burning discomfort spine mersa similar traditional appendix girl part std extremely caught agowhat labor starting sept cleared raised somewhat appeard abdamon third seperate amoxillins filled fmy inger soaked precaution case injury marijuana smoker trouble terrier preorbital flag coffee spilling light pinksometimes pale plate bumped cuthole slightly yo march afford admitted cipro bladder negative bby pernium andits havin calf lymphedema affect permanently name call stomache baseball implanted pacemaker feb machine firm bubble bat incident spider underneath clot celluiitis approximaly hip helping breaking department abcesses six darker wreck four centimeter forearm smashed somtimes electric shock run through table salt fight faster tic hurricane crp rsd adding gotten answer spilled grandson mostly aquaphor kelloid unpleasing uti sulfamethoxazole trimethoprim celluitus really asap resume playing basketball showerbath lockjaw scratch actually numbness moderately diagnosis mri spent inpatient tingling perm dam cupboard minute wearing cardiac event monitor exactly supposed electrode ethyl june external hemorrhoid consistently squiggly larger blueblack parasite uncontrolable diahhera undergone fistula docor microdiscecetomy seroma returned belly button pierced let piercing myslef serrated cling isnt fairly ugly breast elbow dident mounths pink dot injured steel vaginabut amputated amputation argument opinion utis baylisascaris procyonis india stool transmitted intake penicillinprescribed cephalexin serious slowly aching warm fresh drop transmit chance door locker stubbed wall pit pussed seem besides tenderness press though believe indian odor adjacent apartment pizza oven drs butt wax plz suggest remedie glove transmitt hep ran tough mudder sat sml le genital motor vehicle surgically repaired future bone cracked aho curbing crack caus celulitous easier tb retested cellitus enzyme elevated dis dance class gonna avoid improving grade spleen contusion longterm aware cork tomato cage washed poured blistered postponed kitchen professionally sharpened benzoyl everyday salycylic acid constantly super chinsaw themedian radial suppliments proess becuase bathe urinate persist full course artery least recovering discharged ywo sntibiotics unna boot pelvis detected aerhritis meant training green visibly hydrogen thrombosis pad percocet link surerficial thrombophleditis cellulities already oval sealed padding surrounded sticky standard style lateral release immediately adjusting glue crease sternal debridement performed sternum wear wlittle flare routinely dec helpful believed empty follicle pregnany dicloxacillian molly hcv shake popeye motion range squigglylooking mucosa urethra period insight contract stranger drinking blade dissect abcess hardly toward sound fading solution insurance draining andbsince fill blisster livedo reticularis battling particularly stubborn forarm lr cinco de mayo party circulation repacking gauze ou painkiller sinusitis stye whole linked surface redish purplish laprascopic csection bikini alot fluid remicade infliximab iodine multip xrays japanese bomb nuclear donate ice pack generally issue practice circumcision joint stiffness free crusted pinkish burnitch banged showed paper knocked nd dressed professional rest spit saliva applying juice blackening anger rxn arrest key brain stationary rowing protect row dead alone middle smoke cigerettes attacked wooden club suffered skull geting headed cramp angioedema advil ibuprofen soak epson sting seeping yellowish assistant client developing catching swell uncomfortable annoying loosen chemical bleach bath mum lasting forum sanitizer poisoning decent amount school touching positive touched truly reoccur inverted sweat gland exhaust silverex semi wind whatshould kindergarten otc hernia clinic opition epsom drive trip auto wife smell almond afbout round recurring autoimmune scrap rt return construction resource seeing fire showing rubbing dorsum spilt scalded covered hr serous discovered missed chestnut shell splintered splinter condition negatively effecting life transfusion coconut celluitis remote cultured asif bear walked weak liquor antibacterial welding loock strange hymen correct torn tht smtime hv extend intercourse masturbating prick hold gas station garbage wild bigger thanksgiving stereotactic biopsy formed antitetanus verorab saturday ten nervous sustained reducing silvadene sulfadiazine plant airbags moisturized expertise fluocinonide topical seborrheic dermatitis derm short term antiangiogenesis angiogenesis inhibitor pocket prepubescent toddler shaving releasing theyve razor seemed celulitis fiancee performing iam order dress bactine trigger everytime laugh blink poisoningred growing christmas eve pewter pot till each becomes unusual orange causer tired bartholomew re tubal excercising dieting bleached fair begin however standing removing looking shouldid information front sprained recuperation elevation seconddegree episiotomy birth often wsore low lymphocyte relative absolute steam pipe fingertip ooze weeping improvment nipple plus kept lisa handle here whatif sort tape foil stiches turning iit coms underarm waxing prior pls electrical index grafting everything md prrscribes augmenting gastric distress tied hav hardening chlorinated pool knuckle figured gym exercise scrtached dent discolored scissors grows tropical prevented pen ink keflex cellutis concern easy virginal ceacrean wounded disappear yorkie myhand hurting waxy texture brand cutco dropping myiasis advisable learve span individual infested nursing indicate mass follow acummulated scratching penicillin house seafood nonabsorbable blotch addition infusion hve hw appliance nicely comback idklast suffer visible burnsaches sec nine pin point shooting sensitivity mitosis wig barber trimmer anymore show shaved growth cycling crash recover ascend operated superficial parotidectomy flowing stitchesalready whenever neighborhood cutt corcern helppppp rusted lacprosomcy suspected ectopic navel sensitive ocean beach puffy led reactive arthritis cured antibioyics aurous antibotics transdermal laser plastic unnaboots reaccuring angiogram hypopigmentation dermabond infectious insitu dermatologist mupirocin blistering gush gaul thick river wet brushing faint relation corneal blurry vision guaranteed transplant widelong flame remains resembles combined shootin nurse phlippnes postive typhoid dev hydro aerophobia history bec rab scabby flakey wiped masterbated testicals peed wasnt asking toothpick tdap retroactively mobile flea sn hamster receiving streaking compress became reddishbrownish gangrene disappeared rock brow iwas sript blodd harmful chicken coop experienced polysporin bacitracin polymyxin fore friction dt pigment ill recall erysipelas stasis arterial fist supplement sprocket needed scrapelaceration danger fo horrible septic flu develop workout lift tenderious idex threw bacterial steph duac cellutities probs dirt kissed manner increased lymphatic involvement lemon losing pilondial tailbone minocycline tricips solcoseryl brown distended penetrate moving told bac bicep kissing sharing pm et cancel concrete sidewalk surrounding liquidity situation thrown shard slit cellultis diagnosied tab fifth difficulty swallowing stap tummy ofloxacin redor acl sticking attic wouldnt lost midnight raining lens fir pyoderma gangrenosum differenct eczema itchburnblister harmed rust levaquin levofloxacin rocephin bronchitiscellulitis immunosuppressed bm sulfuric sunk hospitalized skinside earring deck apart recur teeth hangnail hang min dissecting folliculitis btw rather drawing salve draw rhe object recommended stroke dad ringworm appears emerging meth amphetamine unroofed ihave legforexample transferred lung tore meniscus excision acell fragment painul lumpy substance tea shed replace neo wipe oregano began mid shin bactrum lessening roof ease hypermobility multiple poorly ehlers danlos pulsing throughout til formd space creatd scare bartholin excruciating arent dissolve deal resulting simple cheap stream tinea pustuels repair scarred significance religious background faith others disadvantage toungue pupil difficultly hearing occasionally anaphalctic hopsitalized vaccination crush graft permanent diaper newborn dull achy moved celutitus coverage qualify military biten puchure proper distinguish seek immediate marine jellyfish tear tart spicy recent treatement reopening happensif avoiding coping mechanism primary prepare weather virginia va symptomsof partly sedilien torch weve ointment consequence effort counter nobody family forward influence tumor metastasis disability sole earlier thornlike remaining fall againist ladder garage appt wonder manage uou avm towel aspirin bang outdoors park ranger healpalm rare septicemia seeking intervetion encourage stitching shut heartrate sleeping baseline begun tampon frequently death pruning shear callous cottonmouth stapled hemorrhoidopexy address july rabipur continuesly jan aug arv fave gross finding shoe punch injure whitener reddness lacerated pinkie closing scabbing iii administered globulin theyre ready brownish foul biotics inbetween shirt rat spill thin mole instructed vaseline melt cutopen trace industrial bar cutting push tmj pulse plaster tends ammonia breastfed afterwards openclosed ball sinking creating festering img fungal fluconazole mva occurred nsaidother exhausted opiod addictive ultram housefly contain stretching ton cheerleader clotheshorse thankyou ringing planning flying straight spinal norcovalium heat agodidint swolen stillwhy scraped leftover vibramycin gaping creamtreatment chlamydia somewhere actual walnut airbag deployed aswell permanant unavailable pinkwhitish remain bloodscab gelt golf cart indent suspect severed regain bursitiscellulitus antibio killed purplered pattern reoccurrence encased mat worst clipper occoured aftr cloudy liq pressing worred screw update hyclate arch impact thinking sluggish dissolvable dissolved soreness scoliosis fadelighten air bag extreme drainrecur yto hepc hepb papercut bleeds toaster band making bulging disc lortabs sock pointless memory unable location including matter rising plan window thurs bactrium nitrate pussy whacked hairbrush itgoaway metacarpels splint shoudl prevention south accidently poked thimerosal fingering pertussis break oppose usual clinical herbal antibiotx warmth nyc deeper random genitalia appear alum powder absolutely melanocyl methoxsalen watery shoud consensual proxide ttreatment dcubidis wseveral ointmnts ect wrk merca cholera difficult expose nickel quater sized celluitist acupuncture swab identified dealt called tumer defines maggot evaluated andor loose bacetracin none neuropathy seepage kitten tetenus hello dresser drawer sterilzed oniment anyway belief resolve bette hi disk tocalm abd cellulytus cost masquito soothe labium correctly debride hibcleanse mon pubic lacerationwound hey inthe respond atrophy irritated basic moisturizer town cauterized chemically youre nature accelerate diet celluilitis desiten elderly doctori dalacin acyclovir quicker sonus nice reccurence itnormal invisible undetected circle cubicin intravenous reach heals hansplast proof flew flatten pressed ceftin cefuroxime antib intervene linox washing dish havnt foreskin latex condom floating cap id jump fun lock ap clip dust paperclip tank reaching bending restmore crystal shape squeezed itthinking dx vancomycin listen tripped skinned walking blead licked stray fur lick reddish vit ad ialuxid sold america equivalent medium dettol recived injectin scrach pulled harden tonight running ended nasal bactroban tinglingsensations stiff imeet sofradex increasing packed gauzed changed shift chiropractic ulnar nurve icing nasous ibeprofin dy tegaderm rear section brace ace affective punching almos lighten rx betamethasone liberally bb gun bullet op unexplained ididnt couldsomething intome crushed glans ointmnt ballooned dislocated declined pushed landed scrapped sacral stand tingle cefalexin heprin uncovered bactrin grey bulgin tingly finished script clindamyisin laying vet wednesday testicular torsion strategy furt gettin gram bid rifampin gum allowed bee titer crutch separate mederma sheetor contractubex wirh preoxide neosprne youve heavly bandiad inward complete postexposure prophylaxis september built excluded epilepsy thyroid hormone sweating slept wrapped tightly upon waking veno dye reacurring bursting exposure inhibit ageogenesis vulva maximum brawny odema cervical neurologic cord general bitesscratches raise weeps klebsiella enteroccal coli massive alternative reopen sunscreen raw create definition description turf fused soaking ninety percent tunneling undermining abdominal optical strength partner sexually noone kidney biliruben snakebite piercings immensely nutrient stimulate attention regard blind ivdu hate abt region bulged ultrasound detect undected steristrips strip letting carbuncle opened yestrday thread consult doctr pavement mph ceftriaxone centre affected mrse canning rhand seven fevor drip wi eyeball foo cm lancedi didntgo hrsits underwear january athletic awhile nonvenomous prednisone recovered steril painsoreness exam materialise attn naturally healdiabetes cbc shied hus radiator crawlscurry ulcerated pug bitch although quarter dwn colonization cellulitusstaph tested neg explain seminal precum vaginavulva meaning choice exuding expired perianal useless hashish freaked chunk reconstructed yesterdayrearended cast wraped realy hidradenitis suppartiva trunk combination antivenom weird paranoid underwent ligation waste medicinally vomit seatbelt victim bother promethazine codiene cough whooping intense salmonella organ excoriation disorder triple paste glassthat parking unsure pig challenge bunch mini buy whitish solid requiring staying homeconnection recognize sciataca oxycontin prescription administere surgrey sink drainer vomiting gi experiencing menapause flash fewer stress unfortunately hanging followup pep fevercold stil officaly located gained alchohol appearing tin buying duty length wise spec bandagesalicylic cigarette subsequent grown bought massaging applicator hypertrophic learn numerous risen rubbed unguinal ocasonal discmfrt sars travel china plane epidemic facemask mask property rained stressed earthquake power candle carbon monoxide refrigeration canned trapped indoors access poop carnation instant breakfast mix tap street flooded wade flood adjust wave flooding freshlycollected rainwater needing typhoon pharmacy floodwaters tapwater terrorist safer higher hillside website dangerously freezing quikclot active efficient drag safety zigzag storm across lightning refrigerator newly tornado direction north driving hide rubble breathing enclosed limited calculate breathe explosion arrives coughing inhaled lound laparoscopic egg oxy idc code scratchcat si surviving cirrhosis accupunction mobility onto boiled temp develops transmission likelihood feces ride bore brunt scrubbed sponge dried typical frying pan palmsize tire amy info bathshower hpv kiss blistery rip climbing calamine mercer law puddle oinment gooey corticosteroid wrost humanmans tetracycline permethrin stick sepsis renew fom digital solosite cellulotis ana nucleolar bt lupus tranquilizer pherpherial lt swellling rtcalf phemigous neurogenic fibro ple snatch invasion viral load durng witht ne ulcr transmt slva xpose catheterization center intrasite passing renal suddenly trear ob thier frenched barley abnormal glued cutperforation drainedsutured ptsd miss stratis stoma lap ventral calmed avulsion effectively blindness circumvented reapply seal figure unhealing swimming sunday initially specifically distant improper gratification fighting mom brought blured lifetime medrol methylprednisolone gall opt bloody improved mirror afternoon morn odds throwed idiscover headnot hcl pea rubbery beside finally wtender differntite fri progress reference decreased ph base iced require graph differentiate sea urchin cane tx reason pinky slammed stabbing itis handfingers write pencil marked exceeded obgyn sp cesarean guideline ebm support handspread weakened blown postiv indented allows airflow recommendation violet covering pump bellybutton talking customer bronchitis mold bare curling colour flesh eating forth ido nor pepto container vaccinespep nov cycist brownie weed faintness mountain trash raccoon inject augminten flucold bp purpose colored cloxaciline cefirax pole gay nightlife zone poking fe extends inwards unpainful syntoms clearing bright bencilpenicillin intramuscular ant reduced rack greenish tint cheese desinfect appreciate bursted metallic screen group povidone iodinebacitracin wrapping elastic hydrocortisone rectangle burningitchyred amplicilina chemist heating bandanges hotter probably returning acrylic leaky valve apnea insomnia respiratory shocked urgent circular anywhere stinging calve spend lumpectomy painburning bruisedcut aprox healedscarred sooth flexor crusty oyster dimesize humira adalimumab hadnt realized whiteish perenial raphe downstairs lover act overall father phobia tantrum watching curr occasion ti continues wood np shes position vesicle gentile urostomy experiienncing debulikng ovarian inscion chemo cusing gunshot approx saturated steppd die tecnause followed complained tit parent pleasehelp mate knot strech forming plyed badminton play horder housekeeper disturbed recluse fatty throb odur ongoing especially isred calm infectous illness manuka prime powerful defect plumber cauterizing sulfur pcn staphcellu cleocin phosphate carriage legcellulitus cell known constitutively perform glycolysis ridiculous flow promote shaper secondary millimeter centered frizzy peri kephlexcephlexan avg suturing deg perineal aways acidentally exhibit obvious blackish woundlaceration accepted practised field crampinglockjaw soil gardening advise hepatitis orally holiday appropriate socketsinus cousin spina bifida horrid rod dealing brachial neuritis offer reassurance runner chewed trauma poisonous concrned sympts agowhich iswas cephalosporin asmall couldwould inswollen hairlinetshirt celluliltis cellullitis fatigue temperature enlarged heterogeneous nodule split feaces protocol intestinal infestation success occlusion ivermectin externally eschar pure adverse inferior sheet road seriously continuous heater bleedinga twenty asked absces wheni vessel convince stronger tylenol acetaminophen rattle pant loss recollection aggravated lortab relaxer hel quick remembering sleepi carpal tunnel splitting niece givin pinnaccillin hue hypertrophickeloid injectionslasersno flaminal forte helix peirced swellin scarringpermanent fly bruising suggestiobs reveal coreswhich unless dig inder improve locked chiropractor adjustment whiplash horrific orthopedic vavd temple pointy hanger dermoid edema bilateral augmetin improvement telfa coban ebola africa dehydration cope drought insulin survival refilled potassium iodide ki hypothermia snow winter terrorism bystander direct strike defibrillator vagus stimulators nearby wildfire shelter laparotomy weepingdischarge hexilak polysiloxanes silicon dioxide pox lapraoscopy tightness hivself kit buffer drew beetle ny bulimia binge progressing concha cloxacillin epididymoorchitis topback testis ultrsnd pusdischarge oozed disgusting waist whit hasbleeding mistakenly compound shaft disinfectant hivhcv anklefoot bumb consuming reoccurring pilonoidal mnths boarder gatorade awake news zika incisional mesh ichy tody qtip suppurativa sack mentioned string bagger cutsscabsdried packaged fridge tonsil retainer stone evil csrs dollar spotsraised beginning florastor sacc boulaardi wisdom extraction enterance itheal tragus moth regularly insleep isit visited surfaced mediport breakout callus isblac liter tat lookfine pas sever fati immunosuppressant responsible hell majora bacillus vegetation cellcept educate unilateral atfl cfl tightening reticulum castmoon advantagesrisks immobilization stab blunt force ea complains worrie perspire cool menopause vascular doppler incompetent perforation adviced bloodpuss complaining takng menogean ceflits infuction fungel lipstick aside musky cuz reader sodium motherwas pigmented picking exploding firework yes mushroom shaped recal herself portion us silverdene cipra lasted redpinkishwhite cotton local wallgreens punched outdoor heeled discharging bactrian kelfax seeming colon wrinkly flush prickle attach hubby bacterum ripped passed automatically infew stretch gauge stretched lobe thinned decrease edematous gnat esp yuca pindulla neither stepson grazed released undetectable semen demolition perforated thx dipped bahamas garamycin systemic dermat toung fiance shud himself spouse antifreeze cefdinir barely jagged campus teen tourniquet doh similarity pushing changing loop recorder doctorits stocking steaming clothes droped sirmadam soar anasthesia nt postcolon lar infxhome soapwater rinse fold moistur beer sergery placing wiring puse litttle scaly uneven pull proply carpet recurred lymphangitis tan rug progression pointer bro undrwent wat osteomyelitis routine apparent thinner scarguard parenteral prophylactic fm adhesive redrash outsidewound subcutaneous suppose pierce easily episode cavity exercising footnail staphylococcus specie morphotypes diphtheroids mvc mchc embedded sideways anteror wedging xray osteoporosis inhibits killer medulla oblongata waterdipper den itwd pour isnormal stimulant appearance eosinophilic microscopic penetrated unbearable horizontal jugular bluishpurple colorcolors equal deadly hydralronic glycine thimb appareantly tense american sewed bubbling price tag build ordinary pinich sty blocked duct ironing turnt handshake current gout grandpa weto peircing jello thinki wut flue grease bust desinfected inflamation shoul neosporn zip sight kneecap bothering unrelated pubes virgin stdsti swollanredish sleeve endoscopy swallow bronze project puppy bull ophthalmologist fuzz rashroad heeling paindiscomfort neckchin puking killing delayed deer gf dizzy stung sand roatan fr manhole refused shelf gushing nosebleed distance foam socket straw either impetigo responding browngrey tylonal waldryl bumpyraised flakesbleeds shaa missing wormswhy reactioninfection cataract spiking lake sideburn shiny pulmonary complicated ownthe douch surge skating vice versa mucus ecoli sufferd migraine membrane survive troubling pore emotionally kneethey sunburned sport itcould squeeze completing cancomycin pussliquid reliever fucking identifying hung vag swoll crown dentist scent fishy lit pinchy tonsillectomy tiday prob lymphoma core cluster single unprotected catheter dialysis exit cloth soften gynecomastia areola action expert secretion item scablike indentation capillaritis occasional sebaceous aftercare circumcised cutinjuryetc adberg areolla research cracking yelloworange emits sho feelng thnking meee hairline lo grabbed wallet somehow bent pcp clearish sucked flattened makeup fallen yesterdayentangled chain detol boroplus wheelbarrow pinkness resown fairmedium salicylic toner protected buildup prestenit gottwn previously pa blackpurple butto cefazolin booklet bra milligram abccess facical fluidnot acceptable synovial ottoman cephlexin betterstronger antibotic eatting thrombotic pe sence brownishred refill cortisporin canal absorption neomycin afraid ototoxicity libia cliterous asphalt upperlip provides pusy startes crazy filling granule candy copper mediastinoscopy bronchoscopy voice replaced umbillical worm earthdog sli stiched comma torso ra wcellulitis immunity responded scrapecut cutter fact rain jean screwdriver froma thus terrified soccer jaundiced lab gestation laprosopic appendectomy disinfected watersoap column rule kicked rib microscopically melting cooled panty increasedmuscle bodyimmense biting localized bottomleft sulfaazythro antibx sulfa azythro resting story brother mildly hypertrophicdark ortho rotatorcuf tendinitisbursitis chiro wht cud living california valley directly squishy activity onset sneeze yawn htn copd inflammation unchanged connects slice managed pricked agave weberi pasted chiari malformation liitle vulvar drainedbusted unidentified hhis plat yellowgreen recd micro device smooth bedbug abroad belt catherization possibility stent toenail lol trapezius obviously april gumball headakes hopspital hemotomas ibuprophrin noticeably uc rodminor negligible toy revision majority limb falling alittle clitorios vibrator lacerationpossible borderline beta box ac sunken usa flight hitch broadspe hickey rbc tearing conjunctivitis foreign waterproof communicate seeps surround biopsied hpvwart virus hence halfway pussfilled visitor fiancé persistent moisturiser dermatofibroma pussbloody dimple pinched redder article retract rugby lining pentil funny protectmyslf amox beeping wout volume freckle feeding grandfather ca chronically inflammed daysweeks athlete steriods precipitate rapid hygiene reversible neovascularization contracted explaination fasciotomy medial compartment comp feverish flushed leftside relax raisedred pnemonia inj antibodic path set office environment disappears pendulous bc talk sprintec cellulitusgot cycle preg dormant wiping spotting depo protection forthree atouch hasnot spreadbut verey clotting pussfoul crater creater slimy younger outta instructor everyone created webbing posttraumatic pre tsunami allready mr rajashree feetboth hiscence discus fibroblast played brest uk rarely ruled origin induce traffic canshould fleabites ate pepperoni shop meat count rectal duue eccema psoriasis diper forceps delivery dislocation cubital fossa benddown puffiness rednesspink nut conditionssymptoms tll nxt derma roller colorless pseudomonas aeruginosa wrusty ceramic agono saturdayclinics mexican particle dilodid bumupper tree sudocreme peritonsillar share myth donts important interesting radioactive thunderstorm thumbtack outimmediately tincture skilled echo denied testin public toliet splashed baid shriveled united mastoid teething atm pinhead farm tick word entry alive burnsting rigor resuming program lifting hiatal cellitius pitting dc periodic lbreast bloodpus marble taped regarding jacking eczma diam slitlike insectspider benadryl diphenhydramine rep swlw significant amt cutinflm dcumntd gttng solely sgnfcnt ejcultn pulling nair prevnt inf recetly met coin vaniza bluish scale ma pollen colonoscy darkened moderate trembling spasmatic disorientated suctures wah stat scheduled sunbathe treadmill hypochondriac scant sir stich posterior significa rabid threatening botox smallnot tetna realize staphylococos aureus stepd toothpck wnt spasmstwitches paininvol twistng occas recov resp infect stagnant fountain sprayed swellingpain boy hat circumference painmva avenue sandal reduction handsaw increasingly abdo graze slipped hill twich inlegswel tuck seromas bench scratchedbroke participate stracthed pork sausage visable appointment aircast scrapping dogtag bracelet hunter saline artificial swollon hardened generator prone cutmedium stainless decide estimated ulcerlike dissolveable bleading runny adenoid coughed tsp tinged thinmoist tearbleed aquaphore healin clustered kno redpink blend cry shopping probable coner raynauds circulatory brief nick lemur mexico stabbingsearing pulsed igm included urination soresblistersdischarge heave sm littel bllod comeout anticeptic pervent hapening kukui doxycillin immed evid borne diff keyhole surgry perineum per happend implanon thou crusting clindamyacin fiberglass milk tue tibia blooding tigh drape irritation radiates sumtimes der topop sideforehead reparildragees omiz umbilical comparable purulent whiter tanned schedule possiblity restart creamsgels redden pound prediabetic retest resolved neurologist sanitized pond concentrated tusnami electricity shoveling supress warning padded senior valium versed terror block nightmare rinsing pepper loud thunder panicky tornadoe preparedness hiding bathtub asthma flaring bushfires collapsed building prolong hammer wider fukushima west coast expected dangling alternate source preparation hazelnut loosely fucidin sx fucid benzilpenicillin penicillinbenzatin advised contracting canker contaminated anesthesia relive exploratory endoremove mouse prep peeing prevents biological cellilittis clarithromycin resembling stretchy manifest session milesman diode superficiel underarms fucicort biafine minimize private member opensores genetic salive calcium progressed city fasciitis emulsion inflammatory pih wanna addict seeker mimic instance trimester sulphadiazine abuse cellututis anibodiic coating swolled ignore discolorationbruising assistance absessed rub cup cladin mycin unborn control bicycle clotted ganegrene sitescar lastnight cutwound embolism blowing achilles stabbingarthritis antibioticskeflex fxdoc meniscal halp prealbumin coliform wbactrim handled cheaper lethargy infectionsailments malaise severity listless labial adhesion fractured caste flucloxacillin clotrimazole traveled hypermobile contribute rope harness stunt drank prevalant among population chernobyl sanitary napkin gauz redevelop kepflex wbc intensive spacers differntiated replacement transvaginal sonography cellulitisbig podiatrist pending yourself masturbate entered knckle amnt dischrge bv gyn ignores lil tiona beautifull chef carcinogenesis depovera ahobi wls doxucycline considerable boxing pyro gang vasculitis subsequently rheumatoid arthris observed shouldi equates cofluampicil inflicted ima somethin snakevenom lyse retin caleb lotrisone transfer pinkbed rabiesother role sspected tibialis anterior dermabondglue ii spillage dunno guy recurrance lunch disqualify donating balnce complints obese computer lyme twitching unaffected subdura handling hurtsting meanwhile lapse wd suffice promoting bloodinfected aide biotic indoor pasteurella multocida application ingest infectedcan occassional dicer neosp thenar fluocloxacillin uncomfy contributes uninfected mower floorboard tmw alkaline phosphatase guillain barre achey fork shared chew potential abscessed prodded floor prodding successfully periosteal diagnosiscellulitis cephlaxin decreasednow lb bld prssurehigh cholosterolarthritisis physically xrayed st sucction describe feature pinke surgerically tarantula havr funky overseas pretravel vandalism record fixation channel season hgv tiatinium fingernail amputate rxd fx cont elevating brightreddish brownishblackish coke celuliitis lethargic crushing mixing toear piercer buzzing dissolving fragile cncr nephrectomy spitting cobra wearnot beneath indication preceded motorcycle phlegm technique jacksonpratt robotic approximately whilst multilayered goat horn poke painswelling profusely attached allover receives guilliane partum eachother gentamicin determining dpt bcause septra grill dinner avoided undergoing series asbestos laroscopic affecting alesse rice stistd anyall stoppable regardless shrimp crab stirred sediment vegetable kimchi korea hbomb evaluation nonprescription trick threeyearold lanthroscopiclly heavily movement server drawn antibact quicken stabbed replicates hcvhand gangerene blistersput carrying suitcase diseasesinfect curricle swalowed clidamycin cashier shaking bandaids introduced cutsbandaids arthroscopy teacher booger thingsthen diseaseconcerns clearrunning micscope resistant gray otherwise basal divet minimal flatter babysitter afterfew tendernp bedframe stingy rough underneathe reoccuring redbruised skinsore barn rabis vacc staphcellulitis splotchy frame catcant agodont nightno txd wantibiotics allerg silvdn benydrylneosp partially innerring number ambulance stuffblood refilling poppedwork ludunensis total byfriend jelly boric suppository compounded inserting ty crplia value deepwide aroubd hsp bodily footstarted swellingred mite mange assuming scalding jumping fluoxacillian applyuseintake wand internally ctscanpossible differential dehisence onoff deformation humerus aunt bios kep serratiopeptidase operatively herniate neckback intolerable scissor atbs rednessswelling dim cica instruction chlorehexidine bondingpaste ie overuse platelet rich plasma lle vanc pipercilin hosp po clindymcn failed excrutiating anklecalf worsened demyelinating polyneuropathy virginity servepain genitalsanus concussiondeep wstitches noted weepy umbrella scraping walcohol symtomps suspended driven roadkill lidocaine peelingcoming final somones linger finishing duricef cefadroxil feverchills impacted positivesmiley bcc scc nodular footshin funeral absessulcer dtest santyl wo inanimate genitals drycracked hpf seman cystabscess sticker remover mutageniccarcinogenic pruritus produce aised dxd extending otherside mouthface practical keflef tid nigh appetite postpone straighten drying dandruff bald sucking menustrual cunnilingus woundsore breastfeeding ft trama waited riskes fireno staphylococus jock itchfungus curiousity retrieved august acetone silgil smallish deeeep alcoholed bruisedtender suv liverand lac flooretc resolvd greater dieing dial antibac hibiclens microbial shrink fucadine exist protective film flexing rom paininflammation ot quantity resemble perfectly fistulotomy surgury anca antihistone losartan reversedanemia critical esr ward exhaustion merely detector aluminum reflective blanket facemasks inhaling repetitive stressful earbuds attract roll wed sunblock cellulitisfungal continued ble drool mammal preexisting limit smztmp finish slower giant papillary enzymatic contactsnot worn wpus absorbable firmhard smzrx completed dk purpgrn painfulswollen hotor cherry angioma angiogensis feed cance extension awaiting leaf celllitis goto tmrw azirthomycin sulfameth ointmentcream wiggle ability creatinine lft inconsistent symp putt physician quickclot century acnelike capasal shampoo bitesuspected reply steristrip felland daysafter view dumpster guilty pyschologist reinfection initial encounter fingered wit vigorously wn hppnd repairing chromic preferable polyglycolic dexon weakness texting bangalore football nipah minimum burp flatulates lodged esophagus indigestion sanofi creambandaid sloff country folk camper flexed cmia antibody duo further req testing conclusive triangular mike sling bihind tie student confuse chubby adomin wack frustrated hungry liposuction crunch toning anesthetic garcinia combogia calorie reccommend lpr tif suc gastrectomy duodenal switch frm paraceta bmi ecg cholesterol obesity lack phentermine didrex storing gender despite burger lorazepam maintain metabolism height obstructive resistance weightlifting bodybuilding angioplasty overweight bigworse stoppd hvng homely protein carb fibre foodfriedspicy gaining inexpensive suppressant statistic mellitus arabian gulf guage spike withought blowout earlob bypass fetus bvitamins accessible cardiologist study wheel purchased garçinia camboga lisinopril smoothie pooped broccoli nauseous hydroxycut hardcore average goal chasing conscious lighter meal lessen wheat pancake unhealthy nonsmoker alchol wine multi vits wondered bloated slimfast compulsive overeating addiction effectiveness lowogestrel turp mmhg kgsq oa tall zma multivitamin ecdt cortisol sclc wanting scientific evidence barretts hiatial snore snoring craving incentive spirometer fertiility bitter melon januvia sitagliptin metformin striving thyorid pcosproblem thyronom bowling handel inshape sensible optifast benefiber randge butty beg plea lean requirement manipulation prev synvisc hylan arthritic stingingburning irritable becoming phentramine bipolar dietingexercising unsaturated deficit sugary lyrica pregabalin ketosis gncs polycystic bulimic assessed therapist halfed squeezing balloon xylitol hcg quinoa eaten unintentional habit regime banana cushing promotes lypolysis xyzal levocetirizine claritin microalbumin tv skateboard mile eatin tsh cambogia tryin paleo bonei excercises anorexia consumed disordered binging converting tact nissen fundoplication highest percentile prediebetiac fbs nutcracker determine easiest boob cardio everydy oatmeal sev pnutbtr junk kg prediabetes diabeticinject congestion indeed obeseoverweight idiopathic intrancranial hypertension atkins underweight levothyroxine zerona lipo grean sperm coolsculpting perfect tonsillitis contraceptive mirena levonorgestrel coil rejected insertion antipsychotic appetitie phendimetrazine associated watcher rouxen ventolin pcos endometriosis typesmeso ecto endomorph bestno escape anorexic investigation sleepy adipex addadhd hyperlipidemia heartchest starvation eltroxin duromine hiccup bark celiac yearincline detox cleanse toxin sweet artifical sweetener bthe erosion justhelp overweightto everybody laserlike claim content regulated legal fattening combining heavier added applecider vinegar regemen consipated sleepinglaying alli mirtazipine snack chip stevia internet reproductive abilityused confused constipated laxative ambulatory eeg buddy herbvitamin gainer besided alcoholism excess motif citrus dietry plzz swimmer tetralogy fallot elliptical strenthen ambu ewot stripe alcoholdrugs galbladder ovary bruiselike naval ancestor shuting fetal relationship cardiovascular whay yea bodyfay lying distracting everynight attribute obeisity bloating fiber metamucil citrucel gerd organic erectile percently vey highcarbohydrate opposed lowcarbohydrate beneficial sugaryfatty amoutn insecure ingesting bradacardia lowest visibility tasting fatburning leiden hetero proactive jogging timesweek knw kilo lossmnth overeat desiases optimal eatburn classify tortuous thoracic aorta vertical acheive absorbance reading hig ringingecho defib cereal workouthow varying ani daytime nightime nowhere carbs pancreas mode approach lowcarb fatget heartbeat thump metabolsim loosing immunization quiickly menopausal bean dukan educated commonly airway diagnostic utilized tad bandbypass defined iu pg failure ibs touted frozen bread sickness startd restricted excercise excersizes frequency eardrum vibrating waaaaaay deaf refeed aday reset discrepancy lipozene outter bulking hiatus calculator muffin book named healthe trim breastfeed nauseated seziure keppra levetiracetam defecating choco percentage emotional pregnan meeting nutritional whts considrring squished yur laproscopy contains target electrostimulation flaccid af fruit veggie colonoscopy mention mint amtripiline spelling sorry arthrosis lumbar underlying preferred geared waysexercises depakote maritzmayer winded guide supportive chat ugml tibc ugdl saturation ferritin ngml deposition hydroxycitric focus topquickest central insufficiency mental fruitsveggies exercisediet repeatedly datesbad starving yoga pco midly cpap automatic hitting fruites orlistat oily thieghs abnormality herbally burner atrophex fales splenda roughly wieght depend consisting lettuce whey protien fumeur inserted homemade gm confined wheelchair ypical carbohydrate informed masturbation hormonal vegetarian pragnency obstacle extract caloric fasting healthier combat starve diabethes kefir nugget versus amd eh gestational enjoy splurge association acanthosis nigricans irregular lymnodes tighten nondairy fluncuates margarine trans ideal calculation annorexic bolth conceive sagging adrenal significantly dieter strategytechnique chidlren kneesrecent improves wibuprofen baristruc aleve naproxen wsaid plexus slim kinetic milkshake banding alcoholic interact stopping kickboxing halflife withdrawal oxycodone hl suboxone speaking starch oprah doctorshospitals san francisco bay womenstomach protruding insuff paperwork dehydr hypogammaglobulinemia ivig wellbutril viibryd vilazodone hydrochloride depressionanxiety vlc whigh learning cha endeavour hairfall menstruation palpitation healthiest utilizing structure unintended ribcage pcod marry celebs rely cheapest la ish join blocker drowsiness allow foodbeverage throwing dvd zumba fitness nutrition pronounced beat reflux sarcoidosis stapling pd infiltration ofr aerobic capacity handeye coordination hyperthyroid graf vegan illestomy obsession recomend gut skinny weighing bariatric weightloss shaken digestive gluttony label roughage counting hopeless static incase jar grinding xx addicted purge reasonable prepregnancy ketogenesis truth highcalorie lowcalorie curve balanced pancreatitis buiding transistion hunger leptin consist altitude zero behavior conduct phetermine murmer anemia college reasoning pay cessation motivate excersiing bodyweight gd rapidly dilaudid hydromorphone adhd secret cellulitefree irritability clumsiness geet older sideeffects poly systic lazer suction abdomin struggling dietician suppression estrogen coupled hardest lipotropics hassle loestrin mediterranean ilipo butter clogging gluten curb substitute teenager strenuous advertising childhood sclerotherapy varicose undereating temporary carrot celery iceberg slimgenics worth bland cookbook antidepressent differance diagnostics titration caloriesmore peanut ovulate dietbites slipping premature overcome ephedrine sulfate lipase cancerweight ont ddiet ddo controlled statin victoza liraglutide bloodsugar unnatural considering hairless chinneck limitation realistically jawline pregnat proyien survived yearold gainloose twig dietary allowance desire hypoglycemic lifestyle fatigued longest heredity lapband wouldes sneezing mesotherapy involves chunky incontinence likelybeing ada massively morbidly abductor avesil ileus vomited heartburn antisnoring beauy rejuvenate lipoma dm yogurt wish normalgood isopure wheyprotein rny quickest legitimate wats plateu launch sense cal bma chart digestion bronchialsinus fuzzy musclejoint concieve quickeest phen fen market gnc fhen augmentation deformity pulsating tendency loading ceiling tremor cardiomyapathy diagn brazilian withdraw ups stair concerta wrinkle injecting barium asd trained highly muscular insinuate endurance youngest unleashes glycosuria nonalcoholic nafld glucose syrup hypoallergenic homeopathic aortic aneurysm odd prognosis inactive tel atherosclerosis consists prevalent hight wiehgt icecream uphill mesomorph oat citric lactose intolerant papilledema apatiat becouse icant herbalife concentrate breatfeed shaky consumption tinnitis ibsd legit sliding multitask novolog supression diabetichbpmild chf ldl hdl trig tc hbp depending toiled gassy avrge xercise diffrence snacking schatzki dialation periond dialtion diation mnth malacia tacking silhouette sweetened beart adderall dextroamphetamine racemic lantus glargine byetta lemonade congenital hypothyroidism pounding gasping erect enlargmen thrashing fusionrod wors pilot ivf attempt ilike adjusted stag meld model score according gastroplastic sergury throw az binged purged mm prune markedly andhad feeltired possilbe capillares consequense trust tiyrid acarbose mgsday apron wight velashape cmc arthroplasty alo cabg ptca pl decade excercize hoping medformin harpte slevee untied deductible reflex truvia neckshoulder googled connection specialweight bringing gouty splotch beauty shapesize lbsfemaleim exercisei thoracolumbar ordered contrast bhcg gerds scope ppi magnesuim pie maltitol eg erithritol fortnight excerise sympthoms troble throught choked listening middleaged areahow embarrassedhow qualified hirsutism refluxgerd pylorus meclizine illegal ephedra viridis signicantly miralax polyethylene glycol resort plenty ttc btwn independent essay approv halitosis floss flank upright lenght simptoms acidity relpy medicen uln belviq lorcaserin cambridge abig bally bige plateau iud trobbing te cystadenoma causeeffect coincidence happy endocrinologist drum ment soma alomg wetting norco coma blacked lucky reduces fluconzole crohn dietitian gfd ttgiga ttgigg gliadiniga glaidinigg iga sauce wannna query postpartum strict married twin advising yammni wborderline enlargement cirrhosi cola twentyyearold cloesteral slushing flake tryglceride jain hsving diariea minet fleshy biliary dyskinesia spirulina bandstomach estrostep ethinyl estradiol norethindrone fructose thermogenic alternetive reductil flip flopping dialectical harder saved tolerance lowprotein supply nitrogen anticholesterol gullet raberprazole lansoprazole omerprazole ranatindine bile pantoprazole flavored soda tenth bulemia liptin yaz drospirenone steady spontaneous lactation precribed supp healthly track alarming excellent dia lowfat eliminated sibutramine prolonged tenormin atenolol sids minimizing insuling production proactol highblood practicing temporarily bedridder endocrine vicodin thisbad xenical treamill roux en syndrom wha tare data mortality nondiabetic follows absence adolescent nonfat herring outpatient diabetesmetabolic loofah pioneer adelle davis france moore lappe leader caduet alright pear ddi didanosine prandin repaglinide meester softener nausiated uncontrolled bloodworkup acei pseudoephedrine cleanser filter sensa sprinkle ia keepvit jog afterpregnancy glucomannan menstrual sucralose baking peopl doct talked topamax topiramate underactive nanna bigboned fatter bos discrimination frustration scoop thirsty puberty bellly rap grions understand aged blonde lovely alwaysthisway canidate atopic ezema optimum smelling nutshell weighed boney farely eercise arachnoid roaring meniere antischicotic risperdone apidexin schitzophrania thirty tummyfat btls smoked somedays randomly asthmatic sinusbronchitis loudly apperence xan bodyfat clicking chewing lumbaral strain shoot hasten testosterone exp honestly selfconscious hypothyroidisim vi weigth diarrea cardiomyopathy tend fried thyriod helpless naturopath skeptical totally los camp fad ultimate teenage formula rage juvenile degenerative removall malignant transfered towalk narcolespy journaling collarbone pica craveeat narcotic cod sibutramina gourd helfpful inherited co codamal desperately modification ale caloie timing vital chantix chitosan achieve cognitive perimenopause sustainable natrul excersice consume excessive itchiness predisposed bothered rested happily nap gynooncologist oncologist hawthorne acoustic ce proven acute malaria outlet glutenfree restrict susceptible gastroesophageal aspartame niddm conceived smartlipo noninvasive liposculpture thermage fda approved radio collagen tumescent invasive lovehandles risky arimidex anastrozole occurrence signify development regenerate churg strauss galactosemia liothyronine takelcarnitine medfast calamari lowering sober vodka impotency moong dal ratio psychotherapy neurontin gabapentin hemochromatosis acaipure mediaxal king cleansing tegretol obesekids methamphetamine citalopram tenex guanfacine lialda biking skimmed synthyroid pilate barbiturate allopurinol adepex papaya valproic nyquil operant conditioning sattu parasomnia flexaril spinach zpac calciumoxalate formation hike mcdonalds choose rise oxygen abortion probability border cholestrol insiln suger basis humiraremicade exssesive swooshing lighthead carotid aneurism reverse plaque arteriole inhaler confirmed di therefore cataplexy choking tiredness openheart ripply expensive ketogenic fundoplications eats drastically lifespan personality compare picky eater unsafe spottreat discouraged setback forgive nonstop yoyo image happier counteract voluntarily thundering cafeteria stuffing fluctuate tickling intermittent paxil paroxetine afrin oxymetazoline soy purely plez hystricrickme december functional packet someday starved flatulence hgc mushy andshe li theroid scotland visiting walkingjogging urge munch kcals kcal withings measure infared sandwich cheeburger western civilization monster giong confusion ekg toothache ibupren multivita immigrationform flaxseed cla wean diligence grn suppls conflicting supps cystic fibrosis ckd merit caldwell esselstyns reversing aam ventricle ejection benefited injectable consensus earwax african girdle vain str decided proccess cad overerweight dudenal shakey benchpressing transition eleviate deformed comepletly nigracans wany juicing vegetaian microwavable grandmother hispanic mod sciatic da stomatch hyperparathyroidism bumping lmp hinge thicker compared continually perscribe rumatoid prednasone swel igain soud medicati azoospermia dangerious waight useing laxitives havd affacting marriage maximuscle widespread rhomatoid hunry ruining aweight budget ramen noodle lapbane firefighter fuel lon prilosec reslly suppress fluoxetine contro hum louder circuit fludied thoat hemodialysis howmis suxrh overwight blow haveing tey interview subject thatll maltodextrin tricalcium silica sprinkled wsenses aiding diearea adomal tiresome vomite foegetfullness feavers headacks kindly weekly hairloss abou yoy itcy benedrayl multiplying insuranc exersize chibby reliable excercing atleast ovulationi ovulation calendar leptopril actuall juicer growthvolume acai berry wherw successful riskier original bettering uric wour ixeal urinating goldish unpleasant bulk inr thinness anygreenstaken anytime rectify phenterminemetformin hotcold gagging whever nausiouc sedation testicle state happiness calday naurtal anykind bipap pillow lipofuscin cardo supplememt healthetrim apitite synthroid thyroxine centerretreat funding edg berium barriatric shortly jersey bedridden prescribes soonercare medicaid nightly hrsnight alpha intrusion pregrancy snored pragrancy bookmaker revealed fld usg guess soonercaremedicaid tendonitis weightmuscle breastmilk bfeed curvy gradual natura wintertime cutaneous noticing myasthenia gravis withhold ultrasonic kn uninterrupted dizzyness adapax lnow ff withouta perscription mnts potion gbp pouch vomittingdiarrhea miscarriage cv bllodwork definitely proverbial spare someo elite wellcontrolled anemic beginging oz fibromyalgia juat fatsaving seroxat ahi rec stimulating focuswork sufferer nortriptyline possibillity canc tia retard spoil differ rounder involve snd conceiving repeated drinki roca dieted exercised swing educationsupportplan toothpaste cardioweightlifting emphasis dribose fibromyalgialike endoluminal gastroplication lims boobsto theyare deposit opk theoretically afterward poochy biggest candidate quitting opinio relatively hundred hae displaying yourecommend possibe chalk evryday thankyoupositivesmiley reasonably lifelong unrelenting thousand tourism affordable paid speech pc oldw sedentary uncontrollable hick em crawling literally mintues brachioplasty saggy pace maker modern constrict especilly liponeze wil afected indicative dependence metoprolol diverticulitis residue sleepyall taco bell samething hap requires loooking roomie slip pituitary moon nonamphetamine asonia crave ga lyposuction insanely jealous spam grind ketone myurine forskolin metropolol cross shield insurence cruise ship norovirus encopresis jacket pedictablenqlu contributing cantaking diurecic beforehand commission hydrated morbid hun glut serving gallon overdosed knew wheatgrass royal commit concentration precise metric pang suppresants internist gal insatiable preludin adequate ent include laperoscopic nephew pudgy congested restrictive measured diastolic durable attorney subtle salad loved enema healthytoxins lossgain purging university psych cals strt syrupfree gastropareis gastro joining symptomatic hypoglycemia pannus assicated cachexia hydrocut fastin weaned dosage endoscope monosodium glutamate lobule reconsider vaser tech petite healt antral gastropathy duodenopathy understanding consentrating conversation consentrate marphans epidural morbidity qnexa lipodystrophy ithers situps meridia unapproved celexa switching acting betw synalar fluocinolone otic bring se oj citrate lactating harming colectomy overr firtabella botanical potpourri circlesveins peer polar retirement disabled cosmetic guarantee offered various browser forget cook gramps lived personal bruxism reshaping nape xlear containg grapeseed pat miami fl smart parental consent novorapid overeats restriction supplementing retaining concer imbilical hastens vicoprofen hydrocodone gastroplasty wicked outcome ionamin lithium eskalith messed dive dietexercise storage controlling bingeing aminophylline inderal propranolol artane migrains refluxseems mysterious mandatory hydroxcut contained hyper endometriom stepsmin twisted gastricbypass honest arbonne includes antipyrnebenzo numbing od spell blurred hypothyroid levothyroxin neilmed rouxeny knowing intellectual hereditary oxyfast selftest app diflunisaldolobid ultra eurpoe farmer chinliposuction delhi breading global panfrying deepfat tummyback garment somthing aiming sucrine carbo wry shrunkendamagedatrophied overweightobese regulate dairy grain fatiguing android methyltestosterone carbing novotiral thrive official com inclusion potein candarell diverticulosis abalone pepsi doesn widely crawdad saffron healthysafe salty snax customary lady statinmedication lipodissolve peach apricot plum nectarine takiing aggressive monthly turkey jerky buffalo psuedoephedrine preventive welbutrin saccharomyces cerevisiai checking pp suspicious spending fortune careful wana insanity wich plyometrics interval trainingmma lipid beel cheat clog creatine sida cordifolia listed predispose mitral prolapse pfo atrial septal suppressed joined bilimic hashimoto arthiritis pcospolycystic clam chowder afr nvr regained wght omnivore sad gasticbypass sulfamerhtrimethoprim wierd penn infertile cihrosis outlook vp shunt pseudotumor cerebri bestcurefor tryciilyc depressant agrees pumpkin seed generalized isotretinoin sibutramineweight nuphedragen world cannabis lcarnitine scam blocking engineer subscribing ritalin methylphenidate impotence infertility menses coeliacceliac airline primatene tympanic neurectomy crawled lorcet overwhelmingly reigion menstral absent erratic dramatically cinammon myomectomy adenomyosis cymbolta nocarb supliments noni flax wedding antidepression sedating effexorits theyd genetics hepititis chlosteral phenergan reversed startedmy nuvaring hydrogenated creatineprotein tobacco bloodwork buut cinnamon baked coronary medroxyprogesterone nineteen bf weught quiting crippling laryngitis wraspbery adiponectin numbnesstingling dietcontrolled qysmiaphentermine topamaxso saccharin imovane malaysian processed ourselves australia successfulness walmart employes crowd preteen explanation soooo bored dobutamine echocardiogram statement facebook intolerence elimination caffine endoscopic jittery skip outline paracetamol bariatrics wwwk amall rind medabolic conjunction furosemide thinning dermatillomania pasta hypertenstiion thatbad munchies conventional fortunant physicals sprint nutrisystem herniated hamstring triamterene fifteen drinker raspberry nectar frightened pitching apps losin bingeeating skinpicking compulsion managing wrkn heaving volleyball hepatologist recommends ar commenting celebrity baltic request celebrex celecoxib nocturia sprite fluctuation methocarbamol thi acanthosois cureable caloriesday hyperinsulinism depoprovera progesterone hypercalcemia cath drimking peptic fruitarian oxycodoneapap oxycotin posible consisted supervision hea hp levemir detemir slimquick metadate max sr equalsplendasweet outliner intensity gfr reversibel sweden cottage recomendations pelvic conserned autistic violent dramatic boomer amateur snapple dietbetic recheck crystel screening esld breastbone propofol excersize slimmer heptomegly video ju merida battle ents sporadic cramping minimized damphetamine xr dilauded provigil eligible rhuematoid obsessed desperate struggled thay sensipar hyperparathyroid fullness granddaughter onglyza saxagliptin lesser bk bood fundus measuring ibe unexplined pigmentation inability methadone weightmostly fan shedding cancerous phintermine percription generic adapex sh sputnum fearful palmar erythema mutton compulsively thyroidectomy dulcolax dessert combine guinness glucophage nutrasweet hashimotos duodenum mashed potato gravy jaundice saddlebag symbicort budesonide formoterol laband flab johnson roxicodone david sunflower ulcerative colitis apriso azulfidine prednizone jenny craig stir fry chow mein curry chole powdered milieu mealsskipping handicapped stenosis latly aleviate amplatzer occluder lipidoedema prolapsed azurette nordette namely ddimer asa panel trighdl tri liverflush shuld ocella eveyday polyphs gastritis february tarry omezaprole nexium user acetamino gabitril tiagabine biotin donor donation halfyr mad angry losr temper rationa accumulated perhaps someon endometrial ablasion attend hida carafate sgpt taller observe triplet pubmed contrary conclude provera neuro wlyrica severly premenopausal sprain mucg dh hc painmeds fa immedeitly hyperglycemia affinity resently topaz uterin discectomy amongst maternal periodduration singleton loin skinless trimmed burden wieight rohde exerci okmy ll mango hidden xfit trademill onm exvercise overused flour detergent linen healthily whatnot ting injurywhat fibroid okey narcolepsy marina dnp thinkmy november consistent il donzt sholder nsaid regurlar util eriod negtative moodly againor bulimiaw lossor fertility slimming hotand donated kidneycan hyperglycemic researched junkslidder multiply triceps inulin amyloidosis marrow byopsy ticlkle periord advanced osteoarthritis antitpo biker thirst tammy severally isolating opiate benzodiazepine cytomel accidental fingerprint crackling exsercie kilogram dianabol os nightshift menstruated sep stillbirth droopy beating reached insole custom laparoscopically thankfu quetiapine simply awakened morphine ir directed inclduing drastic attempting splurged yeste tbls jillian michael horribly crampring nonstopwhat humgry anf kickstart ascites girth telling physioburn energyhow alway supporter ordering rumor alwasys sjogrens completly lamictin cymbalta duloxetine telogen effluvium nw almst xperincing hairfal someont proportional wheatfree albuterol mainly midsection remeron mirtazapine gastronologist adderral accutane handful cashew greek journey sw gw sparkling quality nonobese htp contra imbalance reddening reherniate mar nethaji shy blockage nutella fortnightly anu backpain pregnantexercise regularlynot brittle gassiness pams specialy ur confidence perminant inspite facing bloting klo wtype clos anymoe substituted grny woken mouthful abundance midd probiotic adipexp keen clenbuteral bcaa diabetis insipidus obase exersice obecity handicamp incicisions taste click amlodipine phedra xt pregnact mechanical wsnt stleadt targeted focussing stressmark stresdmark booty estee visceral doubled carnitine clogged restos ocular toxoplasmosis psorisis floticazone uv senokot senna irrigated alt ast bilirubin intertrigo cleavage topicort profoundly trc transoral incisionless wy fluidwatery effecthard km cn hscrp hypertensive antihypertensive agent diffused ulceration symbyax eight aint conected trazodone chinese excersicing hulka motivation andwhat gynexin gynaecomastia treatedd french mc nauseos goiter palative fitted dependent coz havehad usingfentanyl pap tld gt nrml beteeen amputee prosthetic maintenance menier fluidwater sponsor meconium aspiration weighs variety diabets philippine digest keytone manitol preventing decay skind gear iregularities menstration heaviness cystlike entrance earcannal upset islet awesome crackle lipotummy folic prenatal amino restricts rebound costochondritis antiinflammatories plausible trail inc hazardous tontillitis coulkd unexpected hyp som electrolyte medi chemotherapy lapex africanamerican actos pioglitazone actor lipomatic thnx maxx controll wei unabl eto trainer nicotine validity dna nutrigenetics weightmanagement intervention dailyswim thyroiditis proteinlow survivor hemoglobin tris beforr prolactine ng ml vsg fundaplication rite dicharged av bloat leaser hyperinsulinemia ciculation ingown guard tweak obtain cgm bypassrouxenyin casing varies mixed tail anxietydepression colostomy nucleous medison iwalk casued hyperthyroidism panick vfa derived tricyclic antidpress cabbage epigastric belching rlq northern prescribing qysima salan durning mob hemo lapban appitite oxalate concious weightwatch wheres polish calisthenic pushup pullups afect dash hypertention autonomic writing topic vertigo willing jut awkward vibration ifnyou nolittle fatcarb runningjogging restingnot iy marfan habitus prove mf coexist testacal swatted accompanied inactivity miscarried lipoic naesous bikram hypothyroide llb slighty molasses derivative everyones tellih hydroxy strattera atomoxetine hematochezia phase misaligned net alsodiet ablation impaired microwave adenmyosis mimicing kilometer judo sweetned thrice noxipro apatite recurrence miserable soothing maca consistant ramdevs nexplanon misscarage nite sneaker weightis ex theclarkfirmtexas exsercise sonogram junkfood ifg igt fam stabilizer viagra sildenafil diabe relates lvl desk ischemia libidi afore jus overwiegjt cornary artey diease wiegjt irritaing counseled betaserc relieved dilated emphysema clearer expectancy elitediet comprising prolactin induced risperidone dexedrine cheast tinnitus unsuccessful weekness sciatica goin medifast budeprion intakebe idk deit genetically blueberry grape polycytic overy aerobiccardio enervit cipralx cranberry drinkiing vanilla latte amp wheyobolic paroxysmal fibrillation verapamil bum lie gradually prscription debrox wouldi questionable thoe foggy quan dcm dexyfen ger treatements jitteriness hydroxizine upto ayurveda busy forgotten realistic hg medicated hump ion overbiteoverjet moody vancouver waportland patience gaind diane sulfamethtrimethoprim budge scleraderma aerobics tge rumination greece calculating compensate portionally relearning onceday yesturday supplemnt conducting kkow radiating hypothyroism tertroxine intensly barettes parathyroid gerber vegtables omega billion levlen excersise ischemic discovery stomachbruises pressurecholesterolnot smokerfit experencing baractic exhale jitterd qysmia choline betaine disturbance forbid sag elasticity leaning former urinary social cultural adultonset fail achieved undergo shapely equipment planter faciatis rehabilitation albuminuria predisposing cholestatic kock addisons hypocalcemia apidexindiet serotonin fenugreek applelittle worring blountstown lipob esomeprazole rh tim ferriss pocs myope lattice degeneration corrected detachment paint nauseousvomitingfood didnot aga hgh traveling bus ghaving manboobs pecs perscribed eatingdrinking eczemachin polyuria dream dreaming profile orthocept desogestrel freak fods shortened lse shrinkage supposedly consequnces bypassed diuretic contraception race preworkout absorber nutrionist seasoned obstructed determines transient grehlin fatblocker patchcr shellfish youd temptation overcoming mentally overactive robaxin grilled depresed blackgreen stretchmarks vaserlipo wouldvaser thinogenics sludge laproscopically allcould bestbefore compleetly stoped inevitable polylcool hpt harmfull porphyria interested youperform sudafed stillnothing purse hurtin heartburnreflux fundo failing gday alleviate lopsided tru gatroscopy ferrous sulphate unfit averag itas amenorrea shovel scarying elsecould almondsoy holter company trainning crossfit buff nephropathy shakeology studying quiz excercisess onincreasing noisiness toned kgm review pai reductionyoga mind alimentary composed importance performs mineral suppresses fluctuating tennis undereat overexercise neuroendocrine tachycardia confusionforgetfullness rehab postgastric fulltime jet highprotein rushing lipolysis surger rupturing tyre hekp weighting afraiding tension accept stinosis contracetive ciserian detail heed stressing fellow gues overal melatonin hitesh train flushing jawtooth morene accurate prostate bsthroom physiological pathological inhibiting mcg healty exer ther as iwant whuch carried intesting portal lactulose parenchymal plavix clopidogrel anticoagulant regimen spiritual establishing correlated establish cayenne lowimpact evaluate deficient journal mth suit east ribavirin fastes carbonated pooch puke lazy anybody vinger initiating palmetto repeat psa mestruation thc bloodsurine grl weihht sugest nonambulatory womanabout outfit giing dipression veg agenegativesmiley parkinson db teetotal pragnant pragnancy regularlyfi bak medically siva specially tnx bulgings bundle decently somoker sweaty uncomfrtable ricefishvegetble noon milkoat confusing anastomotic raniidine sucralfate defeciancy hairthick upstairs hypotension lipedema wakeup pooping vegitables cofee helpfull pearshape deposite sprouted realise imised thes homepregncy experimental learned disruptive spurt reshape backfire wrinkled flabby ofinfant tightened triglicerides panniculectomy anchor conception television mobidly swimsuit virtually nonexistent rebaudiana resorting overnite ta pausesgasping desired lev apendicitus dietplan wasted sketchy uneasy exerciszing anaerobic importent firmness methodtechnique harvesting dear linear morphea consulted fillcorrect maintained gastrointestinal nf oder lns horsegram numbs scapular daddy preprscribed witch losslow wre fifty rda recs basket player couldnot burping everythingwhy masterbating hdroxy gummies hood lossjoint doesnot ecxzema advicesuggestions probly steambath calcific pancreatititis surgey exceed fro erroted buclizine glowing gimme nasogastric trisprintec mediumheavy depresion chfcould wl salmon forced collect rapide harmone contraindication appropriately asian thymectomy thymic hyperplasia forbad earache havestiffness miracle foodsamts dexilant dexlansoprazole popback expand havg wholegrain breakfas fatening redouse newest overwhelmed fertiliry whar losw caind gite flubber wuts glycemic faty exersicse loaf snap ali permently serostem fourteen restaurant candid prefer consitering gallstone magazine recipe gyming necessarily discontinued transitioning upcoming concerning miso wter assimilation mutiple chirosis excersises accurately tonic squat walgreens note efective insted medroxyprogesteron endomeriosis aswel excisive abdominoplasty surgerytummy gyno determined procardia nifedipine caesar paraesophegal strangulation whenif adipose necsisary dystocia perv chamomile valerian passionflower hyperacidity alternat medicament wonderful october keatones schuled hiatil dysmorphic prg gastic stored caleries sle seasoning reduceeliminate pepsid occ arginine team yearlong lik uve entering luekemia bodyjet blame dimethylpentylamine expel stevioside healthcare worker knowledge tryinh ow isliposuction annual suppressing motivated yhe zantech physique apt alliance list veges programme resist indulge badd bypas laproscopic herniaredo sum gymnastics inconvinient esophageal bananapeanut cliff fixing deprive sentence esraltast oversex advises wrestling sidenot frontright colloid insists spironolactone wmy charcoal bladderwrack fybromiaga walker pickle surgar greasy myselt noninsulin accumulate strawberry knotlike steak retain swellind beyaz intolerance causative variable sell spousal withholds specializes gmo clo noticeable seriquil cocaine imposible saythesameeat losswhat lossband avaliable viamins chan mesenteric emailing match obesed beyond refrain makin comparing obtructive mac aboutit lossing xenadrine ht briskly alongwith viginal progestinonly reduses handicap limiting imporant peson overcame nash looseweight bcz avascular talus lovan lypozene walkexercise eyesight deteriorating evenly tonned superior tak dalrice obesty iz refined competent board certified breastlift phenocal leaner rsi paralysis extended considerably diagonised patulous ge junction incorrectly spite srugery hollow mailed legally pickwickian rotator cuff tush lime trajectory diseasesedentary calorieday exercisewhat adjustable refuse elev psychologist crept devic bleedin retinyl palmitate betacarotene magic deprrssing tq spirolactone tool antioxident folate baggy insomniacdepressive saphris asenapine elavil unwrapped shrunk convinced glutamine discovers pcosstarting asset nutritionist obessed acv amitriptyline nifiedipine consulting arrange celine weighted apnoea premium interest bmr mineuts liposuctionincluding weightgain ibuprophen tapeing ending smelled hodgkin sweatsweight swellig lga nephrophy treatmnt omnipod hidradentitis suppuritiva nonitchy slapped seattle sutton yard researching attempted physici coes aminotransferase washer whooshing anyt psychiatric lumpiness comment cholelithiasis varied embarass expense querieshelpadviceis spark uneducated dumping scolded skinniest justify harsh criticism meredia stoolsdiet dozen leading waht emulsifier latest retired ba consinderindering baractric web mega fissur phentremine spoiling waterwill spondylolthisis chromium picolinate exercisecalorie nutritious painfully flexoril cloresterol tg utterly liposuctionharmful iwould weightim curently permenet regains ria triadalean false powerplate mucousy noting firiod bournvita stalled zererid lowrer trichimonasis phlem esophagitis malab jujuba complain weighti satisfy etiology trichomonas grating adenoidectomy proced attain approaching tween yummy malnutrition dumbells nervosa pmdd lossenergy oxyelite income household agegroup screened serve pseudo focusedmotivated contouring rural magenstrasse mill atty cirhosis caution administering alupent metaproterenol rem diffe avail provigilsimilar exerciseing broth agreement doctorrecommended ave disrupted regurgitation redo bpm sufferin reposting ailment def cardia antrum demanding diagram detailed comparison gastroparesis linz yrn suggering weigt earlobe tweleve bicuspid dietshakes advidable perinatologist silymarin neurovitamins uni balling hatching advi toll posture curved fluctuates aspect offspring sertra unmarried greatly untill hca aleut lipizene leukemia exerciseactivities satisfaction leptins shoulld synroid diabetology restraint ineligible hostility sorbitol mannitol abc compelled absorbed display presenting lowstomach protrudes reversal supper dangersside cali sooo nosedrops ethnicity swift armshands degenative nutrihcg anyhing surgicaly changedim mysurgery bacl lipro cheated colered immeidately ovolution gotu kola bedtime cautious studing purposefully myopia intentional breadth yearz nectresse erythritol monk hypoxia absorbs density putted mullein chinupper inversion twist adopting ggt netherlands iodoral martial art lilltle unblock chilblain deliberate clockwork hypothyrodism klinefelter iin pantorazole ranitindine reward fewest beef lipozap government endep ultrashape socially unacceptable loperamide extremity nefazodone gynecoid readily weightbloat motivator neighbor infographic costco endo stall downhill excreted undigested adolescence globule overies mised conceiv triglyceride breakthrough ocps agree asvmachine hcgin gastroschisis uninsured herniagerdgood cardiologistsecg chestbreathing sezuries cpeptide recipient bein ppl fatburners apperance asv complusive blockpain paining anasthatic vistaril metermine healthto medecines decision quitted medicenes tonalin grave kore tapioca dietinducednot diabetesinducedketosis dietmetf acidosis hving chromotheraphy gynedol srphy ifa iti sorta oxey hurroin littleside provider maintaing problum incidence casein elective measurement wulong wuyi pyramid clamp diminish modified antireflux aldactone marketing osmolarity nigrans mucinex guaifenesin proactively apneaacid reunion upperlower seat harrington diebetes levimir phentermime stamen edgy intestine dumber iq erecting grandma dementia ov wen gv payne exericse musclemass therr distressing hollowing thecause iputmy pic scoped reviewed halt struggle harvested settle syrinx filtering insomia mgdl smokedrink buzzibg jolt strokehemmorage crtd spinning idealshape spaghetti reglan metoclopramide blod simulator hepatic carboxytherapy cf tramadol pathology roxicet dextromethorphan grant whatre ptosis bonus mct chylothorax ageing receve resistancewhat suffers myocardial infarction glaucoma downside exclusively rheumatism distraction principle pollution hypothyriodism gist science tiered blodtest uperbody keg sadly andwalk slimvie ingred amylum mulberry extr jobstears cassia hgb hct mpv vitd possiblei claimed hidroxycut incredibally pid wsys gdm oldf obesehypertensive santosh hydroxicut apnealow thorrible stunted notemy whiskey antabuse disulfiram symptomps solve rating sideffects pilleasy nutraceuticalseffective gimmick employment win facrors fastens habbit strictly mths smthin finsing difficilt gestationaly skim osa scary misdiagnosed faded lactacting mdication svt ratemetabolism mouthbreathing var qvar celiacs cheaply compliant discontinuing lotrel benazepril achalasia perky commercial aderall favorite music jam grass thai sixyearold metobolism clothing shortlegged collection clamper connective peristalsis baker eatright exersis legt sided chedt yeat nonsmokerhshld conconcerned amway positrim memy hungrier ashamed aroud cz thingbi bulky muffled stayed sch clock mellitusjuvenile birthcontrol skinnier ilive diabitic chlosterol gene poll eexample usethe effectsplease yellowing dangerou unclear specialst cipralex vegies fem chol runnimg approve hematocrit hemaglobin hydration hart lobster uo loudnegativesmileywhat zertec cyclic wores preschooler autism spectrum respitory fecal cinch don gastricbanding fiveten varix pristiq desvenlafaxine nourishment hypothroidism dine xiphoid repeative creatiane urea circumstance mor trial preasre builder grab feasible bradycardia capillary farting dono flex boxer thermobol tum carbonate suppresing metatarsal restless pinkreddish goodbetter intensely fatiged wholemeal preseeing polycrstic nigrican olive breathless ismessed gr amoksicilin streptokok throut duple witha precription weightheight ahealthy spreadable toast handfull prl gtt fatness held plugged worrisome adema apnia ike nurves mesotherapya adv disadv hypercaloric cholecystolithiasis preasure familliar predict fentanyl greedinessgluttony sustainedrelease anticandida lipoedema coelic desease soybean psychotic cocktail casuse optic wishing whatcauses irregularity caloriesfat taichi boned jaderra npo beau obstruction explo surg testosteron runningsprinter watched distribute fasted childboy fatburnerlipo remission lymphomaabvd preesure gord ached intermittently breather snorer tredmill gona melted ama asprin domino contour mashine coco rico ruin overweightlike hrt irritating svts exercisedran wno painnot insanityplyo runbuild grindhurt walkeveryday fibroadenoma proteincomplex eill stuffed lotus stem ballet dancer bedroom sibutramines zerodiet cyclamates forbidden permitted european union shifting sulfonylurea performance tummyache nh distinguishes xenicalorlistat habe healthylose compulsory convert seltzer explode sugarfree swingsdepression characterized checkup massage losemy relacore hiit longduration easliy glucse peak meter pressureon deprived arousal fattiest license anyways matta kerella cam nocturnal hypoxemia southern relating healthtap somtims eveningis maintaining htcz unrefreshing confirms meatbased wstatin gabbatin understands fluoride fruity cake dew cab passenger economy hematonacrosis phenylalanine pku subscale prepost mucomyst acetylcysteine lowsalt native dumbbell riboflavin sixmonth satisfied beverage dietstrenghtening myopathy eleven delayes saynot lookin energetic importantly weightand prioritize succeeding lowered ripper intending nitritarian cordisol busback fortha indiamale decreas undecided touchung pqin alergies zurtic washboard rxy hace lipozne deliever softgels fanatic nurantin clonazepem topimarate bcp sequence cirrosis sleepiness paleness component athletics anaemia sucrose skincare eczemaskin polysistic ditropan oxybutynin corresponding earliest hearthealthy sibling ithey automation recieve behavioral euphoria arteriosclerosis lacking indicator longevity ephedraasprincaffeine equestrian althought isoniazid awful oneself hugh jackman wolverine extream pumping ineffective neededday proteincreatine sd matrix unhappy detoxcleanse excessiive surgin quiet activesedentary cave uncontrollably stressanxiety thickened hctz hydrochlorothiazide concernedwith refer ababsolute discontinue jammed earjaw lise fatpooch beginner oh sportsactivities dysmetabolic gainloss respect stead megacolon xantrex unstable angina coconout supplemental dietandexercise colic margarinebutter flavor bowflex leanness thiaminedeficient purchase ass panhypopituitarism dependant averaging erected latina sleepsnoring havetaken tram prego twelve litre blackhead element fibrosing mediastinitis venacava lapland childrens slimmin selfesteem flared allot defficiency kenpo workweek insomiac grossly fussy verticalbanded peculiar nastiest earplug toupe vite fifthteen georgia atomache bathing outgiing whatbit undiagnosed wud greentea warns actively immunosuppressive herbellife nonperishable spanx butterfly explosive somr tmes wabting appreciated aspergers culprit synedrex pregnacy witin copy greyish garcinoa divalproex resistancemetabolic explains adrenaline rosuvas reg cmp nevella irreversible curcovia supplementsshakes metgadone lisinoprilhctx genuine weightfat save asvice sceond pancreatic avapro phenergen neurotin solidified imoduim bothersome uclers jack fet polyunsaturated monounsaturated likelyhood enormous motivational noninsulindependent niacin olestra symptopms lbp strengthening ww clobetasol propionate qsymia uncommon etg clamping howmany antiseizure worsen clickcrackling consonant debilitating neonatal induces enbrel etanercept avacodo blackbean onion brocolli tratment novalog meprate pineapple shakiness prenancy jujube embarrassing weekday presurgical levothroid unobtainable hypersomnia text doctos drivin wee starthavi pureed prescibed tretin glyco incurable becoz glutengrainsnuts gluemetza nfl bulgur arnica montana carifree foaming basically benzoate hydroxide indiam nivea buried suprapubic gynaecologistput clomid clomiphene ddont iih straining fibrods disqualifcation goji rls sushi pun intended sixteen irequested difficulcties pregnanncy picapagophagia breakdown baratric lowincomepoverty gasbloat meanlook bulge preformed sensibly implication theraphy edmark gastrostomy cva slippage polyups flora tuckabdominoplasty besttasting furhmans alkaloid sqatting appearence chilli ithink cambodia conjugated linoleic orgasm muesli goalgood premier fantastic triger spel candrel garnicia havepolycystic codiován stricture healthyvegetarian locarb hsve diagnos presure gilbert terribly ketovail sertradilne cuttingshredding comfortable shortage developmental delay solved prptien unwell calcification thereafte heartburnindigestion infrequent habitsovereatingtoo diddnt microangiopathy waldmanns itt depot overweightim mirana genu fortunately magnificent nonsurgery nj scanner accommodate essential bubbly sith gasp noisy ranking childood fined ionamine nitrofurantoin muscluar downalways healthywhy knock silverfish liklihood cholestoral ho hd sometimesoften alaopecia truncular tania septoplasty postsurgery panniculitis redox statistical dite hooked huskie disturbs oversee plump nitrous weighloss holy grail foelr adicted relaxed complement urologist charge weider duodanitis rqr invokana hinted insul toxicity abnormally isin healthyno traing primrose diary cerebral palsy cerazette hiking twicewk similac comfort master saving roasted chick surprise composition spouting exertion masking hypogonadism appx rmiprl hydrchlthizid fruitatarian muscleloose buttermilk rolled fatobese additionally fastet disruption softer acquiring diazepamvalium osteogenesis imperfecta effected slimness ultasound heps protine bodybuilder competition smores hinder sporadically develped palate subclinical afernoon lactalose methaphatamine lobar eatcook clickcrack reacts calculated tapping sprinting losslike mealday latter histusism garsinia pinto achieving trt osperisis cartlidge andhow garnacia norethisterone slendera hypothalamic amenorrhea swalowing swalow showd narrowing narowing itdone liquidy disapear ai dancing ibswhat oft gurgling junksodaalchohol ehlars jst evrytg ceasern questiion waterfats oatscarbs eggsprotein weightsa membership peg narcoleptic menstual sould bow malabsorption desirable healthlose valleyfever tortilla chulapa precautionary penicilin agewhere phentermineg prandial indicates overbite maxillary expansion methylpredisolone marraige dat remediescough leafy mensutral hovers rational brisk squishing yasmin methotrexate balenced cuticle ligament orbitrack prebiotic wbad drin anyside vert heath colestrol wgt cartonexample safari pfanner rauch diabeties sourced dorsal recom manny iraq barbaric glyciphage wabdominal suposatories skateboarding constitutes expecting manifestation postbariatric religiously symtoms slipage apear aikido army casual aerobicanaerobic hockey sweetleaf slimtevia breakage thirteen wiodine jennifer hudson withdrawl norcotics involed diethylpropion hepatitus antiphopholipid ons ore cooked bunion cooky murmur vdrl rhythmblood irr mythroat probems metphorman flw avrgly glaases incredibly roommate practicioner permanetly charcot marie thrombophlebitis pylephlebitis ella ulipristal acetate candarel ppis hesitant apena tortured dvlopd recntly strts wlkin thn exrcis ventricular hypertrophy suicidal urethral thrush gastroscopy csections gor sgot esophigitis sliit diaibites consta redone efficacy witnessed stature shorter spin nauseavomiting popular velvety pancytopeniaspleenomegaly lossweakness hb eliptocytes hystercomy polyphenols walkathons mercury tuna teensyoung razon attractive isagenix wellness atypical sittng alter cellular intragastric pcis metobolic stint gordgerd sooner snackmeal garcia triggered orlista milkteas quasense zantrex liked alongside lasinopril metaprolol insuline resistent glycemia vyvanse esterc mindset exersise golden donalds kfc valgum strengthened ameliorate ditex gatrectomy exclude sweetners sexlinked adivin remrom effixer dilemma inferotemporal retinoschisis enlarge gred bypasslap chafing garciana levora stable cyclen norgestimate manufacturer hardware tkr witt fatcellulite literature gotta unbalance lychee pubis ischial tuberosity flavone interstitial cystitis wim whata pillvitamin kidneyhealth isoleucine leucine valine lysine mentality excersices wii detoxify frnd cleansesmart frontotemporal midstage ftd impairment deterioration lightheadedness diaformin hypo geodon ziprasidone lighterlife bariatic regaining currenty colonic busparone advair sugarcoating vigerously slimina britain softners magnesia vericose squad jna theyfoun alsofound antrium trazadone cpac benzo ocdbipolar aging haven smile execess supresent practise sleevepathologist fnd metaplasiahad imwill canceris reversiblewhat dietworkout bg ovulating ovrweight wired ol kelp acinar metoprol lipodrene bye crestor rosuvastatin armour contributed exempla beforebreakfast doreadwatch bicycling burnerenergy withouse fibromylagia propanalil git fastfood quadrant absorbtion leanmuscle whereas skinnyfat cidar eatter genie herniaesophagitis eatingsleeping ovulatin ovulati'"
      ]
     },
     "execution_count": 37,
     "metadata": {},
     "output_type": "execute_result"
    }
   ],
   "source": [
    "' '.join(list(vocab.keys()))"
   ]
  },
  {
   "cell_type": "code",
   "execution_count": 38,
   "id": "e128aa0e",
   "metadata": {},
   "outputs": [],
   "source": [
    "def encoder(df,feature):\n",
    "    t=Tokenizer()\n",
    "    entries=[entry for entry in df[feature]]\n",
    "    t.fit_on_texts(entries)\n",
    "    joblib.dump(t,'tokenizer_t.pkl')\n",
    "    vocab_size=len(t.word_index)+1\n",
    "    entries=[entry for entry in df[feature]]\n",
    "    max_length=max([len(s.split())for s in entries])\n",
    "    encoded=t.texts_to_sequences(entries)\n",
    "    padded=pad_sequences(encoded,maxlen=max_length,padding='post')\n",
    "    return padded,vocab_size"
   ]
  },
  {
   "cell_type": "code",
   "execution_count": 40,
   "id": "af259e1e",
   "metadata": {},
   "outputs": [],
   "source": [
    "x,vocab_size=encoder(df_quest,'question')"
   ]
  },
  {
   "cell_type": "code",
   "execution_count": 41,
   "id": "869838ab",
   "metadata": {},
   "outputs": [
    {
     "data": {
      "text/plain": [
       "11154"
      ]
     },
     "execution_count": 41,
     "metadata": {},
     "output_type": "execute_result"
    }
   ],
   "source": [
    "vocab_size"
   ]
  },
  {
   "cell_type": "code",
   "execution_count": 43,
   "id": "eebe9262",
   "metadata": {},
   "outputs": [],
   "source": [
    "df_encoded=pd.DataFrame(x)"
   ]
  },
  {
   "cell_type": "code",
   "execution_count": 115,
   "id": "a1c4bd07",
   "metadata": {},
   "outputs": [
    {
     "data": {
      "text/html": [
       "<div>\n",
       "<style scoped>\n",
       "    .dataframe tbody tr th:only-of-type {\n",
       "        vertical-align: middle;\n",
       "    }\n",
       "\n",
       "    .dataframe tbody tr th {\n",
       "        vertical-align: top;\n",
       "    }\n",
       "\n",
       "    .dataframe thead th {\n",
       "        text-align: right;\n",
       "    }\n",
       "</style>\n",
       "<table border=\"1\" class=\"dataframe\">\n",
       "  <thead>\n",
       "    <tr style=\"text-align: right;\">\n",
       "      <th></th>\n",
       "      <th>0</th>\n",
       "      <th>1</th>\n",
       "      <th>2</th>\n",
       "      <th>3</th>\n",
       "      <th>4</th>\n",
       "      <th>5</th>\n",
       "      <th>6</th>\n",
       "      <th>7</th>\n",
       "      <th>8</th>\n",
       "      <th>9</th>\n",
       "      <th>...</th>\n",
       "      <th>45</th>\n",
       "      <th>46</th>\n",
       "      <th>47</th>\n",
       "      <th>48</th>\n",
       "      <th>49</th>\n",
       "      <th>50</th>\n",
       "      <th>51</th>\n",
       "      <th>52</th>\n",
       "      <th>53</th>\n",
       "      <th>labels</th>\n",
       "    </tr>\n",
       "  </thead>\n",
       "  <tbody>\n",
       "    <tr>\n",
       "      <th>0</th>\n",
       "      <td>3192</td>\n",
       "      <td>1074</td>\n",
       "      <td>891</td>\n",
       "      <td>23</td>\n",
       "      <td>294</td>\n",
       "      <td>2</td>\n",
       "      <td>6</td>\n",
       "      <td>250</td>\n",
       "      <td>52</td>\n",
       "      <td>2</td>\n",
       "      <td>...</td>\n",
       "      <td>0.0</td>\n",
       "      <td>0.0</td>\n",
       "      <td>0.0</td>\n",
       "      <td>0.0</td>\n",
       "      <td>0.0</td>\n",
       "      <td>0.0</td>\n",
       "      <td>0.0</td>\n",
       "      <td>0.0</td>\n",
       "      <td>0.0</td>\n",
       "      <td>dentistry</td>\n",
       "    </tr>\n",
       "    <tr>\n",
       "      <th>1</th>\n",
       "      <td>3192</td>\n",
       "      <td>1074</td>\n",
       "      <td>891</td>\n",
       "      <td>23</td>\n",
       "      <td>294</td>\n",
       "      <td>2</td>\n",
       "      <td>6</td>\n",
       "      <td>250</td>\n",
       "      <td>52</td>\n",
       "      <td>2</td>\n",
       "      <td>...</td>\n",
       "      <td>0.0</td>\n",
       "      <td>0.0</td>\n",
       "      <td>0.0</td>\n",
       "      <td>0.0</td>\n",
       "      <td>0.0</td>\n",
       "      <td>0.0</td>\n",
       "      <td>0.0</td>\n",
       "      <td>0.0</td>\n",
       "      <td>0.0</td>\n",
       "      <td>dentistry</td>\n",
       "    </tr>\n",
       "    <tr>\n",
       "      <th>2</th>\n",
       "      <td>3192</td>\n",
       "      <td>1074</td>\n",
       "      <td>891</td>\n",
       "      <td>23</td>\n",
       "      <td>294</td>\n",
       "      <td>2</td>\n",
       "      <td>6</td>\n",
       "      <td>250</td>\n",
       "      <td>52</td>\n",
       "      <td>2</td>\n",
       "      <td>...</td>\n",
       "      <td>0.0</td>\n",
       "      <td>0.0</td>\n",
       "      <td>0.0</td>\n",
       "      <td>0.0</td>\n",
       "      <td>0.0</td>\n",
       "      <td>0.0</td>\n",
       "      <td>0.0</td>\n",
       "      <td>0.0</td>\n",
       "      <td>0.0</td>\n",
       "      <td>dentistry</td>\n",
       "    </tr>\n",
       "    <tr>\n",
       "      <th>3</th>\n",
       "      <td>3192</td>\n",
       "      <td>1074</td>\n",
       "      <td>891</td>\n",
       "      <td>23</td>\n",
       "      <td>294</td>\n",
       "      <td>2</td>\n",
       "      <td>6</td>\n",
       "      <td>250</td>\n",
       "      <td>52</td>\n",
       "      <td>2</td>\n",
       "      <td>...</td>\n",
       "      <td>0.0</td>\n",
       "      <td>0.0</td>\n",
       "      <td>0.0</td>\n",
       "      <td>0.0</td>\n",
       "      <td>0.0</td>\n",
       "      <td>0.0</td>\n",
       "      <td>0.0</td>\n",
       "      <td>0.0</td>\n",
       "      <td>0.0</td>\n",
       "      <td>dentistry</td>\n",
       "    </tr>\n",
       "    <tr>\n",
       "      <th>4</th>\n",
       "      <td>3192</td>\n",
       "      <td>1074</td>\n",
       "      <td>891</td>\n",
       "      <td>23</td>\n",
       "      <td>294</td>\n",
       "      <td>2</td>\n",
       "      <td>6</td>\n",
       "      <td>250</td>\n",
       "      <td>52</td>\n",
       "      <td>2</td>\n",
       "      <td>...</td>\n",
       "      <td>0.0</td>\n",
       "      <td>0.0</td>\n",
       "      <td>0.0</td>\n",
       "      <td>0.0</td>\n",
       "      <td>0.0</td>\n",
       "      <td>0.0</td>\n",
       "      <td>0.0</td>\n",
       "      <td>0.0</td>\n",
       "      <td>0.0</td>\n",
       "      <td>dentistry</td>\n",
       "    </tr>\n",
       "  </tbody>\n",
       "</table>\n",
       "<p>5 rows × 55 columns</p>\n",
       "</div>"
      ],
      "text/plain": [
       "      0     1    2   3    4  5  6    7   8  9  ...   45   46   47   48   49  \\\n",
       "0  3192  1074  891  23  294  2  6  250  52  2  ...  0.0  0.0  0.0  0.0  0.0   \n",
       "1  3192  1074  891  23  294  2  6  250  52  2  ...  0.0  0.0  0.0  0.0  0.0   \n",
       "2  3192  1074  891  23  294  2  6  250  52  2  ...  0.0  0.0  0.0  0.0  0.0   \n",
       "3  3192  1074  891  23  294  2  6  250  52  2  ...  0.0  0.0  0.0  0.0  0.0   \n",
       "4  3192  1074  891  23  294  2  6  250  52  2  ...  0.0  0.0  0.0  0.0  0.0   \n",
       "\n",
       "    50   51   52   53     labels  \n",
       "0  0.0  0.0  0.0  0.0  dentistry  \n",
       "1  0.0  0.0  0.0  0.0  dentistry  \n",
       "2  0.0  0.0  0.0  0.0  dentistry  \n",
       "3  0.0  0.0  0.0  0.0  dentistry  \n",
       "4  0.0  0.0  0.0  0.0  dentistry  \n",
       "\n",
       "[5 rows x 55 columns]"
      ]
     },
     "execution_count": 115,
     "metadata": {},
     "output_type": "execute_result"
    }
   ],
   "source": [
    "df_encoded['labels']=df_quest.tags\n",
    "df_encoded.head()"
   ]
  },
  {
   "cell_type": "code",
   "execution_count": 45,
   "id": "a9bb1c31",
   "metadata": {},
   "outputs": [],
   "source": [
    "for i in range(0,2):\n",
    "    dt=[0]*16\n",
    "    dt.append('confused')\n",
    "    dt=[dt]\n",
    "    pd.DataFrame(dt).rename(columns={16:'labels'})\n",
    "    df_encoded=df_encoded.append(pd.DataFrame(dt).rename(columns={16:'labels'}),ignore_index=True)"
   ]
  },
  {
   "cell_type": "code",
   "execution_count": 117,
   "id": "e68bb946",
   "metadata": {},
   "outputs": [
    {
     "data": {
      "text/html": [
       "<div>\n",
       "<style scoped>\n",
       "    .dataframe tbody tr th:only-of-type {\n",
       "        vertical-align: middle;\n",
       "    }\n",
       "\n",
       "    .dataframe tbody tr th {\n",
       "        vertical-align: top;\n",
       "    }\n",
       "\n",
       "    .dataframe thead th {\n",
       "        text-align: right;\n",
       "    }\n",
       "</style>\n",
       "<table border=\"1\" class=\"dataframe\">\n",
       "  <thead>\n",
       "    <tr style=\"text-align: right;\">\n",
       "      <th></th>\n",
       "      <th>0</th>\n",
       "      <th>1</th>\n",
       "      <th>2</th>\n",
       "      <th>3</th>\n",
       "      <th>4</th>\n",
       "      <th>5</th>\n",
       "      <th>6</th>\n",
       "      <th>7</th>\n",
       "      <th>8</th>\n",
       "      <th>9</th>\n",
       "      <th>...</th>\n",
       "      <th>45</th>\n",
       "      <th>46</th>\n",
       "      <th>47</th>\n",
       "      <th>48</th>\n",
       "      <th>49</th>\n",
       "      <th>50</th>\n",
       "      <th>51</th>\n",
       "      <th>52</th>\n",
       "      <th>53</th>\n",
       "      <th>labels</th>\n",
       "    </tr>\n",
       "  </thead>\n",
       "  <tbody>\n",
       "    <tr>\n",
       "      <th>24997</th>\n",
       "      <td>8</td>\n",
       "      <td>237</td>\n",
       "      <td>1456</td>\n",
       "      <td>137</td>\n",
       "      <td>81</td>\n",
       "      <td>6</td>\n",
       "      <td>25</td>\n",
       "      <td>297</td>\n",
       "      <td>33</td>\n",
       "      <td>131</td>\n",
       "      <td>...</td>\n",
       "      <td>0.0</td>\n",
       "      <td>0.0</td>\n",
       "      <td>0.0</td>\n",
       "      <td>0.0</td>\n",
       "      <td>0.0</td>\n",
       "      <td>0.0</td>\n",
       "      <td>0.0</td>\n",
       "      <td>0.0</td>\n",
       "      <td>0.0</td>\n",
       "      <td>bariatrics</td>\n",
       "    </tr>\n",
       "    <tr>\n",
       "      <th>24998</th>\n",
       "      <td>8</td>\n",
       "      <td>237</td>\n",
       "      <td>1456</td>\n",
       "      <td>137</td>\n",
       "      <td>81</td>\n",
       "      <td>6</td>\n",
       "      <td>25</td>\n",
       "      <td>297</td>\n",
       "      <td>33</td>\n",
       "      <td>131</td>\n",
       "      <td>...</td>\n",
       "      <td>0.0</td>\n",
       "      <td>0.0</td>\n",
       "      <td>0.0</td>\n",
       "      <td>0.0</td>\n",
       "      <td>0.0</td>\n",
       "      <td>0.0</td>\n",
       "      <td>0.0</td>\n",
       "      <td>0.0</td>\n",
       "      <td>0.0</td>\n",
       "      <td>bariatrics</td>\n",
       "    </tr>\n",
       "    <tr>\n",
       "      <th>24999</th>\n",
       "      <td>8</td>\n",
       "      <td>1</td>\n",
       "      <td>237</td>\n",
       "      <td>1456</td>\n",
       "      <td>4585</td>\n",
       "      <td>6</td>\n",
       "      <td>736</td>\n",
       "      <td>39</td>\n",
       "      <td>111</td>\n",
       "      <td>12</td>\n",
       "      <td>...</td>\n",
       "      <td>0.0</td>\n",
       "      <td>0.0</td>\n",
       "      <td>0.0</td>\n",
       "      <td>0.0</td>\n",
       "      <td>0.0</td>\n",
       "      <td>0.0</td>\n",
       "      <td>0.0</td>\n",
       "      <td>0.0</td>\n",
       "      <td>0.0</td>\n",
       "      <td>bariatrics</td>\n",
       "    </tr>\n",
       "    <tr>\n",
       "      <th>25000</th>\n",
       "      <td>0</td>\n",
       "      <td>0</td>\n",
       "      <td>0</td>\n",
       "      <td>0</td>\n",
       "      <td>0</td>\n",
       "      <td>0</td>\n",
       "      <td>0</td>\n",
       "      <td>0</td>\n",
       "      <td>0</td>\n",
       "      <td>0</td>\n",
       "      <td>...</td>\n",
       "      <td>0.0</td>\n",
       "      <td>0.0</td>\n",
       "      <td>0.0</td>\n",
       "      <td>0.0</td>\n",
       "      <td>0.0</td>\n",
       "      <td>0.0</td>\n",
       "      <td>0.0</td>\n",
       "      <td>0.0</td>\n",
       "      <td>0.0</td>\n",
       "      <td>NaN</td>\n",
       "    </tr>\n",
       "    <tr>\n",
       "      <th>25001</th>\n",
       "      <td>0</td>\n",
       "      <td>0</td>\n",
       "      <td>0</td>\n",
       "      <td>0</td>\n",
       "      <td>0</td>\n",
       "      <td>0</td>\n",
       "      <td>0</td>\n",
       "      <td>0</td>\n",
       "      <td>0</td>\n",
       "      <td>0</td>\n",
       "      <td>...</td>\n",
       "      <td>0.0</td>\n",
       "      <td>0.0</td>\n",
       "      <td>0.0</td>\n",
       "      <td>0.0</td>\n",
       "      <td>0.0</td>\n",
       "      <td>0.0</td>\n",
       "      <td>0.0</td>\n",
       "      <td>0.0</td>\n",
       "      <td>0.0</td>\n",
       "      <td>NaN</td>\n",
       "    </tr>\n",
       "  </tbody>\n",
       "</table>\n",
       "<p>5 rows × 55 columns</p>\n",
       "</div>"
      ],
      "text/plain": [
       "       0    1     2     3     4  5    6    7    8    9  ...   45   46   47  \\\n",
       "24997  8  237  1456   137    81  6   25  297   33  131  ...  0.0  0.0  0.0   \n",
       "24998  8  237  1456   137    81  6   25  297   33  131  ...  0.0  0.0  0.0   \n",
       "24999  8    1   237  1456  4585  6  736   39  111   12  ...  0.0  0.0  0.0   \n",
       "25000  0    0     0     0     0  0    0    0    0    0  ...  0.0  0.0  0.0   \n",
       "25001  0    0     0     0     0  0    0    0    0    0  ...  0.0  0.0  0.0   \n",
       "\n",
       "        48   49   50   51   52   53      labels  \n",
       "24997  0.0  0.0  0.0  0.0  0.0  0.0  bariatrics  \n",
       "24998  0.0  0.0  0.0  0.0  0.0  0.0  bariatrics  \n",
       "24999  0.0  0.0  0.0  0.0  0.0  0.0  bariatrics  \n",
       "25000  0.0  0.0  0.0  0.0  0.0  0.0         NaN  \n",
       "25001  0.0  0.0  0.0  0.0  0.0  0.0         NaN  \n",
       "\n",
       "[5 rows x 55 columns]"
      ]
     },
     "execution_count": 117,
     "metadata": {},
     "output_type": "execute_result"
    }
   ],
   "source": [
    "df_encoded.tail()"
   ]
  },
  {
   "cell_type": "code",
   "execution_count": 118,
   "id": "b65a5f86",
   "metadata": {},
   "outputs": [],
   "source": [
    "df_encoded.fillna(0,inplace=True)"
   ]
  },
  {
   "cell_type": "code",
   "execution_count": 49,
   "id": "02e57dea",
   "metadata": {},
   "outputs": [],
   "source": [
    "train_index.append(422)\n",
    "test_index.append(423)"
   ]
  },
  {
   "cell_type": "code",
   "execution_count": 50,
   "id": "9a2174f7",
   "metadata": {},
   "outputs": [],
   "source": [
    "from sklearn.preprocessing import LabelEncoder\n",
    "label_enc=LabelEncoder()"
   ]
  },
  {
   "cell_type": "code",
   "execution_count": 51,
   "id": "50856dc3",
   "metadata": {},
   "outputs": [
    {
     "data": {
      "text/plain": [
       "array([9, 9, 9, ..., 0, 7, 7])"
      ]
     },
     "execution_count": 51,
     "metadata": {},
     "output_type": "execute_result"
    }
   ],
   "source": [
    "labl=label_enc.fit_transform(df_encoded.labels)\n",
    "labl"
   ]
  },
  {
   "cell_type": "code",
   "execution_count": 54,
   "id": "1e6ca82b",
   "metadata": {},
   "outputs": [
    {
     "data": {
      "text/plain": [
       "{'dentistry': 9,\n",
       " 'cardiology': 1,\n",
       " 'bariatrics': 0,\n",
       " 'wound care': 11,\n",
       " 'child psychiatry': 2,\n",
       " 'clinical genetics': 3,\n",
       " 'clinical lipidology': 4,\n",
       " 'clinical psychology': 5,\n",
       " 'colon and rectal surgery': 6,\n",
       " 'critical care': 8,\n",
       " 'dermatology': 10,\n",
       " 'confused': 7}"
      ]
     },
     "execution_count": 54,
     "metadata": {},
     "output_type": "execute_result"
    }
   ],
   "source": [
    "mapper={}\n",
    "for index,key in enumerate(df_encoded.labels):\n",
    "    if key not in mapper.keys():\n",
    "        mapper[key]=labl[index]\n",
    "mapper"
   ]
  },
  {
   "cell_type": "code",
   "execution_count": 56,
   "id": "dffd1ccc",
   "metadata": {},
   "outputs": [],
   "source": [
    "df_ans.tags=df_ans.tags.map(mapper)"
   ]
  },
  {
   "cell_type": "code",
   "execution_count": 57,
   "id": "3de02987",
   "metadata": {},
   "outputs": [],
   "source": [
    "df_ans.dropna(inplace=True)"
   ]
  },
  {
   "cell_type": "code",
   "execution_count": 59,
   "id": "43a7d5cd",
   "metadata": {},
   "outputs": [],
   "source": [
    "df_ans.tags=df_ans.tags.astype({'tags':'int32'})"
   ]
  },
  {
   "cell_type": "code",
   "execution_count": 60,
   "id": "dde522b8",
   "metadata": {},
   "outputs": [
    {
     "data": {
      "text/html": [
       "<div>\n",
       "<style scoped>\n",
       "    .dataframe tbody tr th:only-of-type {\n",
       "        vertical-align: middle;\n",
       "    }\n",
       "\n",
       "    .dataframe tbody tr th {\n",
       "        vertical-align: top;\n",
       "    }\n",
       "\n",
       "    .dataframe thead th {\n",
       "        text-align: right;\n",
       "    }\n",
       "</style>\n",
       "<table border=\"1\" class=\"dataframe\">\n",
       "  <thead>\n",
       "    <tr style=\"text-align: right;\">\n",
       "      <th></th>\n",
       "      <th>answer</th>\n",
       "      <th>tags</th>\n",
       "    </tr>\n",
       "  </thead>\n",
       "  <tbody>\n",
       "    <tr>\n",
       "      <th>0</th>\n",
       "      <td>a majority of the dental implants placed are t...</td>\n",
       "      <td>9</td>\n",
       "    </tr>\n",
       "    <tr>\n",
       "      <th>1</th>\n",
       "      <td>and the data on zirconia implants is much more...</td>\n",
       "      <td>9</td>\n",
       "    </tr>\n",
       "    <tr>\n",
       "      <th>2</th>\n",
       "      <td>dental implants when loaded transfer stress to...</td>\n",
       "      <td>9</td>\n",
       "    </tr>\n",
       "    <tr>\n",
       "      <th>3</th>\n",
       "      <td>stick with what we know works -- titanium. let...</td>\n",
       "      <td>9</td>\n",
       "    </tr>\n",
       "    <tr>\n",
       "      <th>4</th>\n",
       "      <td>the vast majority of dental implants placed ar...</td>\n",
       "      <td>9</td>\n",
       "    </tr>\n",
       "  </tbody>\n",
       "</table>\n",
       "</div>"
      ],
      "text/plain": [
       "                                              answer  tags\n",
       "0  a majority of the dental implants placed are t...     9\n",
       "1  and the data on zirconia implants is much more...     9\n",
       "2  dental implants when loaded transfer stress to...     9\n",
       "3  stick with what we know works -- titanium. let...     9\n",
       "4  the vast majority of dental implants placed ar...     9"
      ]
     },
     "execution_count": 60,
     "metadata": {},
     "output_type": "execute_result"
    }
   ],
   "source": [
    "df_ans.head()"
   ]
  },
  {
   "cell_type": "markdown",
   "id": "2eb41415",
   "metadata": {},
   "source": [
    "### Model Building"
   ]
  },
  {
   "cell_type": "code",
   "execution_count": 63,
   "id": "0fdf7f61",
   "metadata": {},
   "outputs": [],
   "source": [
    "train=df_encoded.loc[train_index]\n",
    "test=df_encoded.loc[test_index]"
   ]
  },
  {
   "cell_type": "code",
   "execution_count": 64,
   "id": "a9b67d72",
   "metadata": {},
   "outputs": [],
   "source": [
    "x_train=train.drop(columns=['labels'],axis=1)\n",
    "y_train=train.labels\n",
    "x_test=test.drop(columns=['labels'],axis=1)\n",
    "y_test=test.labels"
   ]
  },
  {
   "cell_type": "code",
   "execution_count": 65,
   "id": "18c7f082",
   "metadata": {},
   "outputs": [],
   "source": [
    "y_train=pd.get_dummies(y_train).values\n",
    "y_test=pd.get_dummies(y_test).values"
   ]
  },
  {
   "cell_type": "code",
   "execution_count": 122,
   "id": "4345fe8c",
   "metadata": {},
   "outputs": [
    {
     "data": {
      "text/plain": [
       "((9,), (11,))"
      ]
     },
     "execution_count": 122,
     "metadata": {},
     "output_type": "execute_result"
    }
   ],
   "source": [
    "y_train[0].shape,y_test[0].shape"
   ]
  },
  {
   "cell_type": "code",
   "execution_count": 67,
   "id": "02ba5d0f",
   "metadata": {},
   "outputs": [
    {
     "name": "stdout",
     "output_type": "stream",
     "text": [
      "(24990, 54) (24990, 9) (12, 54) (12, 11)\n"
     ]
    }
   ],
   "source": [
    "print(x_train.shape,y_train.shape,x_test.shape,y_test.shape)"
   ]
  },
  {
   "cell_type": "code",
   "execution_count": 124,
   "id": "5115afb8",
   "metadata": {},
   "outputs": [],
   "source": [
    "max_length=x_train.shape[1]\n",
    "output=9"
   ]
  },
  {
   "cell_type": "code",
   "execution_count": 98,
   "id": "9e294da8",
   "metadata": {},
   "outputs": [],
   "source": [
    "early_stopping=EarlyStopping(monitor='val_loss',patience=10)\n",
    "checkpoint=ModelCheckpoint(\"model-v1.h5\",\n",
    "                            monitor=\"val_loss\",\n",
    "                            mode=\"min\",\n",
    "                            save_best_only=True,\n",
    "                           verbrose=2\n",
    "\n",
    ")\n",
    "reduce_lr=ReduceLROnPlateau(monitor=\"val_loss\",factor=0.2,patience=3,verbose=1,min_delta=0.0001)\n",
    "callbacks=[early_stopping,checkpoint,reduce_lr]"
   ]
  },
  {
   "cell_type": "code",
   "execution_count": 125,
   "id": "bd44f9f8",
   "metadata": {},
   "outputs": [],
   "source": [
    "def define_model(vocab_size,max_length):\n",
    "    model=Sequential()\n",
    "    model.add(Embedding(vocab_size,600,input_length=max_length))\n",
    "    model.add(Conv1D(filters=64,kernel_size=4,activation='relu'))\n",
    "    model.add(MaxPooling1D(pool_size=8))\n",
    "    model.add(Flatten())\n",
    "    model.add(Dense(output,activation='softmax'))\n",
    "\n",
    "    #compile networks\n",
    "    model.compile(loss='categorical_crossentropy',\n",
    "                  optimizer='adam',\n",
    "                  metrics=['accuracy'])\n",
    "\n",
    "    #summarise defined model\n",
    "    model.summary()\n",
    "    plot_model(model,to_file='model.png',show_shapes=True)\n",
    "    return model"
   ]
  },
  {
   "cell_type": "code",
   "execution_count": 126,
   "id": "33bcf144",
   "metadata": {},
   "outputs": [
    {
     "name": "stdout",
     "output_type": "stream",
     "text": [
      "Model: \"sequential_7\"\n",
      "_________________________________________________________________\n",
      " Layer (type)                Output Shape              Param #   \n",
      "=================================================================\n",
      " embedding_7 (Embedding)     (None, 54, 600)           6692400   \n",
      "                                                                 \n",
      " conv1d_7 (Conv1D)           (None, 51, 64)            153664    \n",
      "                                                                 \n",
      " max_pooling1d_7 (MaxPooling  (None, 6, 64)            0         \n",
      " 1D)                                                             \n",
      "                                                                 \n",
      " flatten_7 (Flatten)         (None, 384)               0         \n",
      "                                                                 \n",
      " dense_7 (Dense)             (None, 9)                 3465      \n",
      "                                                                 \n",
      "=================================================================\n",
      "Total params: 6,849,529\n",
      "Trainable params: 6,849,529\n",
      "Non-trainable params: 0\n",
      "_________________________________________________________________\n",
      "You must install pydot (`pip install pydot`) and install graphviz (see instructions at https://graphviz.gitlab.io/download/) for plot_model to work.\n"
     ]
    }
   ],
   "source": [
    "model=define_model(vocab_size,max_length)"
   ]
  },
  {
   "cell_type": "code",
   "execution_count": 127,
   "id": "e8b70617",
   "metadata": {},
   "outputs": [
    {
     "name": "stdout",
     "output_type": "stream",
     "text": [
      "781/781 [==============================] - ETA: 0s - loss: 0.1157 - accuracy: 0.9615WARNING:tensorflow:Early stopping conditioned on metric `val_loss` which is not available. Available metrics are: loss,accuracy\n",
      "WARNING:tensorflow:Can save best model only with val_loss available, skipping.\n",
      "WARNING:tensorflow:Learning rate reduction is conditioned on metric `val_loss` which is not available. Available metrics are: loss,accuracy,lr\n",
      "781/781 [==============================] - 91s 115ms/step - loss: 0.1157 - accuracy: 0.9615 - lr: 0.0010\n"
     ]
    }
   ],
   "source": [
    "# Training the model\n",
    "history=model.fit(x_train,y_train,epochs=1,callbacks=callbacks)"
   ]
  },
  {
   "cell_type": "raw",
   "id": "0240d93b",
   "metadata": {},
   "source": [
    "acc=history.history['accuracy']\n",
    "loss=history.history['loss']\n",
    "\n",
    "plt.figure(figsize=(16,8))\n",
    "plt.plot(acc,label=\"Training Accuracy\")\n",
    "plt.legend(loc='lower right')\n",
    "plt.title(\"Training Accuracy\")\n",
    "\n",
    "plt.plot(loss,label=\"Training Loss\")\n",
    "plt.legend(loc='upper right')\n",
    "plt.title(\"Training Loss\")\n",
    "\n",
    "plt.show()"
   ]
  }
 ],
 "metadata": {
  "kernelspec": {
   "display_name": "Python 3 (ipykernel)",
   "language": "python",
   "name": "python3"
  },
  "language_info": {
   "codemirror_mode": {
    "name": "ipython",
    "version": 3
   },
   "file_extension": ".py",
   "mimetype": "text/x-python",
   "name": "python",
   "nbconvert_exporter": "python",
   "pygments_lexer": "ipython3",
   "version": "3.9.7"
  }
 },
 "nbformat": 4,
 "nbformat_minor": 5
}
